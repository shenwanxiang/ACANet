{
 "cells": [
  {
   "cell_type": "code",
   "execution_count": 2,
   "id": "0e224be6-4f5c-4f26-9f09-c7f344e52196",
   "metadata": {},
   "outputs": [],
   "source": [
    "from glob import glob\n",
    "import pandas as pd"
   ]
  },
  {
   "cell_type": "code",
   "execution_count": 33,
   "id": "e4d39fe8-c1d6-43c9-8fcd-ef4ad22e4a82",
   "metadata": {},
   "outputs": [],
   "source": [
    "scores = glob('./ACANetOPT/*_delta_scoring.csv')"
   ]
  },
  {
   "cell_type": "code",
   "execution_count": 34,
   "id": "bbf1f96b-15c2-437c-998a-108a0752e92c",
   "metadata": {},
   "outputs": [],
   "source": [
    "res = []\n",
    "for s in scores:\n",
    "    df = pd.read_csv(s, index_col=0).astype(str)\n",
    "    \n",
    "    p = df.loc['Avg'] + '+' + df.loc['Std. Dev.']\n",
    "    m = s.split('/')[-2]\n",
    "    d = s.split('/')[-1]\n",
    "    n = d.split('_')[0]\n",
    "    p = p.to_frame(name = n)\n",
    "    res.append(p)"
   ]
  },
  {
   "cell_type": "code",
   "execution_count": 35,
   "id": "ac5e9f49-c1c4-4261-b2bf-ba56cef43d48",
   "metadata": {},
   "outputs": [
    {
     "data": {
      "text/html": [
       "<div>\n",
       "<style scoped>\n",
       "    .dataframe tbody tr th:only-of-type {\n",
       "        vertical-align: middle;\n",
       "    }\n",
       "\n",
       "    .dataframe tbody tr th {\n",
       "        vertical-align: top;\n",
       "    }\n",
       "\n",
       "    .dataframe thead th {\n",
       "        text-align: right;\n",
       "    }\n",
       "</style>\n",
       "<table border=\"1\" class=\"dataframe\">\n",
       "  <thead>\n",
       "    <tr style=\"text-align: right;\">\n",
       "      <th></th>\n",
       "      <th>Pearson's r</th>\n",
       "      <th>MAE</th>\n",
       "      <th>RMSE</th>\n",
       "    </tr>\n",
       "  </thead>\n",
       "  <tbody>\n",
       "    <tr>\n",
       "      <th>HepClear</th>\n",
       "      <td>0.431+0.014</td>\n",
       "      <td>0.45+0.004</td>\n",
       "      <td>0.561+0.005</td>\n",
       "    </tr>\n",
       "    <tr>\n",
       "      <th>RenClear</th>\n",
       "      <td>0.507+0.012</td>\n",
       "      <td>0.25+0.003</td>\n",
       "      <td>0.329+0.003</td>\n",
       "    </tr>\n",
       "    <tr>\n",
       "      <th>Caco2</th>\n",
       "      <td>0.844+0.004</td>\n",
       "      <td>0.451+0.005</td>\n",
       "      <td>0.587+0.009</td>\n",
       "    </tr>\n",
       "    <tr>\n",
       "      <th>HemoTox</th>\n",
       "      <td>0.842+0.003</td>\n",
       "      <td>0.48+0.003</td>\n",
       "      <td>0.626+0.006</td>\n",
       "    </tr>\n",
       "    <tr>\n",
       "      <th>Sol</th>\n",
       "      <td>0.942+0.001</td>\n",
       "      <td>0.752+0.004</td>\n",
       "      <td>0.995+0.005</td>\n",
       "    </tr>\n",
       "    <tr>\n",
       "      <th>MicroClear</th>\n",
       "      <td>0.444+0.005</td>\n",
       "      <td>0.436+0.002</td>\n",
       "      <td>0.544+0.002</td>\n",
       "    </tr>\n",
       "    <tr>\n",
       "      <th>FUBrain</th>\n",
       "      <td>0.67+0.013</td>\n",
       "      <td>0.632+0.013</td>\n",
       "      <td>0.818+0.018</td>\n",
       "    </tr>\n",
       "    <tr>\n",
       "      <th>HalfLife</th>\n",
       "      <td>0.588+0.007</td>\n",
       "      <td>0.557+0.004</td>\n",
       "      <td>0.727+0.005</td>\n",
       "    </tr>\n",
       "    <tr>\n",
       "      <th>VDss</th>\n",
       "      <td>0.76+0.002</td>\n",
       "      <td>0.452+0.003</td>\n",
       "      <td>0.599+0.003</td>\n",
       "    </tr>\n",
       "    <tr>\n",
       "      <th>FreeSolv</th>\n",
       "      <td>0.954+0.002</td>\n",
       "      <td>0.995+0.011</td>\n",
       "      <td>1.653+0.025</td>\n",
       "    </tr>\n",
       "  </tbody>\n",
       "</table>\n",
       "</div>"
      ],
      "text/plain": [
       "            Pearson's r          MAE         RMSE\n",
       "HepClear    0.431+0.014   0.45+0.004  0.561+0.005\n",
       "RenClear    0.507+0.012   0.25+0.003  0.329+0.003\n",
       "Caco2       0.844+0.004  0.451+0.005  0.587+0.009\n",
       "HemoTox     0.842+0.003   0.48+0.003  0.626+0.006\n",
       "Sol         0.942+0.001  0.752+0.004  0.995+0.005\n",
       "MicroClear  0.444+0.005  0.436+0.002  0.544+0.002\n",
       "FUBrain      0.67+0.013  0.632+0.013  0.818+0.018\n",
       "HalfLife    0.588+0.007  0.557+0.004  0.727+0.005\n",
       "VDss         0.76+0.002  0.452+0.003  0.599+0.003\n",
       "FreeSolv    0.954+0.002  0.995+0.011  1.653+0.025"
      ]
     },
     "execution_count": 35,
     "metadata": {},
     "output_type": "execute_result"
    }
   ],
   "source": [
    "pd.concat(res, axis=1).T"
   ]
  },
  {
   "cell_type": "code",
   "execution_count": 27,
   "id": "5889cfa9-a28f-4d04-ab9c-6fa91d03ecae",
   "metadata": {},
   "outputs": [],
   "source": []
  },
  {
   "cell_type": "code",
   "execution_count": 28,
   "id": "69755cf5-83fd-48e5-9d44-acdaa195343b",
   "metadata": {},
   "outputs": [
    {
     "data": {
      "text/html": [
       "<div>\n",
       "<style scoped>\n",
       "    .dataframe tbody tr th:only-of-type {\n",
       "        vertical-align: middle;\n",
       "    }\n",
       "\n",
       "    .dataframe tbody tr th {\n",
       "        vertical-align: top;\n",
       "    }\n",
       "\n",
       "    .dataframe thead th {\n",
       "        text-align: right;\n",
       "    }\n",
       "</style>\n",
       "<table border=\"1\" class=\"dataframe\">\n",
       "  <thead>\n",
       "    <tr style=\"text-align: right;\">\n",
       "      <th></th>\n",
       "      <th>FUBrain</th>\n",
       "    </tr>\n",
       "  </thead>\n",
       "  <tbody>\n",
       "    <tr>\n",
       "      <th>Pearson's r</th>\n",
       "      <td>0.662+0.01</td>\n",
       "    </tr>\n",
       "    <tr>\n",
       "      <th>MAE</th>\n",
       "      <td>0.638+0.008</td>\n",
       "    </tr>\n",
       "    <tr>\n",
       "      <th>RMSE</th>\n",
       "      <td>0.827+0.01</td>\n",
       "    </tr>\n",
       "  </tbody>\n",
       "</table>\n",
       "</div>"
      ],
      "text/plain": [
       "                 FUBrain\n",
       "Pearson's r   0.662+0.01\n",
       "MAE          0.638+0.008\n",
       "RMSE          0.827+0.01"
      ]
     },
     "execution_count": 28,
     "metadata": {},
     "output_type": "execute_result"
    }
   ],
   "source": []
  },
  {
   "cell_type": "code",
   "execution_count": 26,
   "id": "46e4ecc9-58b2-42a9-bdd4-a2f7153992a5",
   "metadata": {},
   "outputs": [],
   "source": []
  },
  {
   "cell_type": "code",
   "execution_count": null,
   "id": "0261f1bb-43c4-4089-9848-cdc26b86e4d8",
   "metadata": {},
   "outputs": [],
   "source": []
  },
  {
   "cell_type": "code",
   "execution_count": null,
   "id": "99f4f575-4a20-4f43-b6cb-a6cfd2fda665",
   "metadata": {},
   "outputs": [],
   "source": []
  }
 ],
 "metadata": {
  "kernelspec": {
   "display_name": "Python 3 (ipykernel)",
   "language": "python",
   "name": "python3"
  },
  "language_info": {
   "codemirror_mode": {
    "name": "ipython",
    "version": 3
   },
   "file_extension": ".py",
   "mimetype": "text/x-python",
   "name": "python",
   "nbconvert_exporter": "python",
   "pygments_lexer": "ipython3",
   "version": "3.9.7"
  }
 },
 "nbformat": 4,
 "nbformat_minor": 5
}
