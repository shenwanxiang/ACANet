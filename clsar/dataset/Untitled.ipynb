{
 "cells": [
  {
   "cell_type": "code",
   "execution_count": 1,
   "id": "645bd3f1-7707-4b89-909e-0276dce9b13d",
   "metadata": {},
   "outputs": [],
   "source": [
    "import numpy as np"
   ]
  },
  {
   "cell_type": "code",
   "execution_count": 17,
   "id": "17d639a2-e53c-4b18-b10e-4d4f1ce92aae",
   "metadata": {},
   "outputs": [],
   "source": [
    "x = -2.69"
   ]
  },
  {
   "cell_type": "code",
   "execution_count": 25,
   "id": "a076b0d5-09f0-46e1-92ef-727839adde27",
   "metadata": {},
   "outputs": [
    {
     "data": {
      "text/plain": [
       "6.31"
      ]
     },
     "execution_count": 25,
     "metadata": {},
     "output_type": "execute_result"
    }
   ],
   "source": []
  },
  {
   "cell_type": "code",
   "execution_count": 24,
   "id": "044399e4-f789-4e5b-9c85-786dc8f6980d",
   "metadata": {},
   "outputs": [
    {
     "data": {
      "text/plain": [
       "2.6989700043360187"
      ]
     },
     "execution_count": 24,
     "metadata": {},
     "output_type": "execute_result"
    }
   ],
   "source": [
    "np.log10(500)"
   ]
  },
  {
   "cell_type": "code",
   "execution_count": 28,
   "id": "b23255ad-af4e-4aab-abb5-cbb554651ae4",
   "metadata": {},
   "outputs": [],
   "source": []
  },
  {
   "cell_type": "code",
   "execution_count": 30,
   "id": "b7449384-f551-46f1-ad58-39183a7494ff",
   "metadata": {},
   "outputs": [],
   "source": [
    "pIC50 = nm_log_to_pm_log(-2.69)"
   ]
  },
  {
   "cell_type": "code",
   "execution_count": 42,
   "id": "5aa7faa1-a180-43a1-b360-74697c48c625",
   "metadata": {},
   "outputs": [
    {
     "data": {
      "text/plain": [
       "-2.6900000000000004"
      ]
     },
     "execution_count": 42,
     "metadata": {},
     "output_type": "execute_result"
    }
   ],
   "source": []
  },
  {
   "cell_type": "code",
   "execution_count": 41,
   "id": "07019644-345a-4a25-b149-1c7dc59a0187",
   "metadata": {},
   "outputs": [
    {
     "data": {
      "text/plain": [
       "2.6989700043360187"
      ]
     },
     "execution_count": 41,
     "metadata": {},
     "output_type": "execute_result"
    }
   ],
   "source": [
    "np.log10(500)"
   ]
  },
  {
   "cell_type": "code",
   "execution_count": 22,
   "id": "63ddccc7-68de-4d1e-9549-3b6736252ae9",
   "metadata": {},
   "outputs": [
    {
     "name": "stdout",
     "output_type": "stream",
     "text": [
      "tensor([[1.0000, 0.3333, 0.3333],\n",
      "        [0.3333, 1.0000, 0.3333],\n",
      "        [0.3333, 0.3333, 1.0000]])\n",
      "tensor([[[False, False, False],\n",
      "         [ True, False, False],\n",
      "         [ True, False, False]],\n",
      "\n",
      "        [[False,  True, False],\n",
      "         [False, False, False],\n",
      "         [False,  True, False]],\n",
      "\n",
      "        [[False, False,  True],\n",
      "         [False, False,  True],\n",
      "         [False, False, False]]]) torch.Size([3, 3, 3])\n"
     ]
    }
   ],
   "source": [
    "import torch\n",
    "\n",
    "# 假设您的 batch 是一个形状为 (batch_size, vector_length) 的张量\n",
    "batch = torch.tensor([[1, 0, 1], [0, 1, 1], [1, 1, 0]])\n",
    "\n",
    "# 在第一维上使用广播，对 batch 中的向量执行按位 AND 运算\n",
    "result1 = torch.bitwise_and(batch.unsqueeze(1), batch.unsqueeze(0))\n",
    "C = result1.sum(-1)\n",
    "result2 = torch.add(batch.unsqueeze(1), batch.unsqueeze(0))\n",
    "A_B = result2.sum(-1)\n",
    "result2_sum = torch.bitwise_or(batch.unsqueeze(1), batch.unsqueeze(0)).sum(-1)\n",
    "# 将 result 对角线上的元素全部设为 0，以避免将向量与自己相与\n",
    "#result = torch.where(torch.eye(result.shape[0], device=result.device, dtype=torch.bool), \n",
    "#                     torch.zeros_like(result), result)\n",
    "result = C / (A_B-C+1e-5)\n",
    "print(result)\n",
    "m1=result>0.5\n",
    "m2=result<0.5\n",
    "m = torch.logical_and(m1.unsqueeze(1),m2.unsqueeze(2))\n",
    "print(m,m.shape)"
   ]
  },
  {
   "cell_type": "code",
   "execution_count": 3,
   "id": "30358cfb-1ce6-489f-a9f4-55368a93f99d",
   "metadata": {},
   "outputs": [
    {
     "data": {
      "text/plain": [
       "tensor([[[0, 0, 1],\n",
       "         [0, 0, 1],\n",
       "         [1, 0, 0]],\n",
       "\n",
       "        [[0, 0, 1],\n",
       "         [0, 0, 1],\n",
       "         [0, 1, 0]],\n",
       "\n",
       "        [[0, 0, 0],\n",
       "         [0, 0, 0],\n",
       "         [1, 1, 0]]])"
      ]
     },
     "execution_count": 3,
     "metadata": {},
     "output_type": "execute_result"
    }
   ],
   "source": [
    "result = torch.where(torch.eye(result.shape[0], device=result.device, dtype=torch.bool), \n",
    "                   torch.zeros_like(result), result)\n",
    "result"
   ]
  },
  {
   "cell_type": "code",
   "execution_count": 17,
   "id": "f5c7acda-1168-4d16-be4e-699a23406ee7",
   "metadata": {},
   "outputs": [
    {
     "name": "stdout",
     "output_type": "stream",
     "text": [
      "[0.]\n",
      "tensor([0, 0, 0,  ..., 0, 0, 0], dtype=torch.int32)\n"
     ]
    }
   ],
   "source": [
    "from rdkit import Chem\n",
    "from rdkit.Chem import AllChem\n",
    "import numpy as np\n",
    "import torch\n",
    "def generate_morgan_fingerprint(mol, radius=2, nBits=2048):\n",
    "    \"\"\"\n",
    "    生成分子的Morgan指纹\n",
    "\n",
    "    :param mol: 分子\n",
    "    :param radius: 搜索半径，默认为2\n",
    "    :param nBits: 指纹的长度，默认为2048\n",
    "    :return: 分子的Morgan指纹\n",
    "    \"\"\"\n",
    "    fp = AllChem.GetMorganFingerprintAsBitVect(mol, radius, nBits)\n",
    "    arr = np.zeros((1,))\n",
    "    print(arr)\n",
    "    # Convert the RDKit explicit-valence-bit-vector into a numpy array.\n",
    "    AllChem.DataStructs.ConvertToNumpyArray(fp, arr)\n",
    "    return arr\n",
    "\n",
    "# 示例\n",
    "smiles = 'CC(=O)OC1=CC=CC=C1C(=O)O'\n",
    "mol = Chem.MolFromSmiles(smiles)\n",
    "fp = torch.tensor(generate_morgan_fingerprint(mol),dtype=torch.int)\n",
    "print(fp)"
   ]
  },
  {
   "cell_type": "code",
   "execution_count": null,
   "id": "71721065-e019-4dcf-bbba-adb77a7cfa1a",
   "metadata": {},
   "outputs": [],
   "source": []
  }
 ],
 "metadata": {
  "kernelspec": {
   "display_name": "Python [conda env:ccc]",
   "language": "python",
   "name": "conda-env-ccc-py"
  },
  "language_info": {
   "codemirror_mode": {
    "name": "ipython",
    "version": 3
   },
   "file_extension": ".py",
   "mimetype": "text/x-python",
   "name": "python",
   "nbconvert_exporter": "python",
   "pygments_lexer": "ipython3",
   "version": "3.8.16"
  }
 },
 "nbformat": 4,
 "nbformat_minor": 5
}
