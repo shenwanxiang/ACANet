{
 "cells": [
  {
   "cell_type": "code",
   "execution_count": 2,
   "id": "5f296a02-1256-4986-8fa6-5deb0bd84d02",
   "metadata": {},
   "outputs": [],
   "source": [
    "from math import sqrt\n",
    "import pandas as pd\n",
    "import numpy as np\n",
    "\n",
    "import torch\n",
    "import torch.nn.functional as F\n",
    "from rdkit import Chem\n",
    "from scipy.stats import pearsonr\n",
    "from tqdm import tqdm\n",
    "\n",
    "import random\n",
    "\n",
    "import matplotlib.pyplot as plt\n",
    "import seaborn as sns\n",
    "sns.set(style = 'white', font_scale=2)"
   ]
  },
  {
   "cell_type": "code",
   "execution_count": 84,
   "id": "d71403b8-3d1d-4e18-94d3-91deff7fcd8f",
   "metadata": {},
   "outputs": [],
   "source": [
    "from sklearn.neighbors import NearestNeighbors\n",
    "from sklearn.metrics.pairwise import cosine_distances"
   ]
  },
  {
   "cell_type": "code",
   "execution_count": 85,
   "id": "59fd7967-638b-41f5-8469-0880bcea217a",
   "metadata": {},
   "outputs": [],
   "source": [
    "def label_incoherence_index(X, y, k=10):\n",
    "    nbrs = NearestNeighbors(n_neighbors=k+1).fit(X)\n",
    "    _, indices = nbrs.kneighbors(X)\n",
    "    \n",
    "    incoherence_values = []\n",
    "    for i in range(X.shape[0]):\n",
    "        neighbors_labels = y[indices[i, 1:]]\n",
    "        local_incoherence = np.mean(np.abs(neighbors_labels - y[i]))\n",
    "        incoherence_values.append(local_incoherence)\n",
    "    \n",
    "    return np.mean(incoherence_values)\n",
    "\n",
    "def feature_incoherence_index(X, k=5):\n",
    "    nbrs = NearestNeighbors(n_neighbors=k+1, ).fit(X) #metric='cosine'\n",
    "    distances, indices = nbrs.kneighbors(X)\n",
    "    \n",
    "    incoherence_values = []\n",
    "    for i in range(X.shape[0]):\n",
    "        neighbors = X[indices[i, 1:]]\n",
    "        local_incoherence = np.mean(cosine_distances([X[i]], neighbors)[0])\n",
    "        incoherence_values.append(local_incoherence)\n",
    "    \n",
    "    return np.mean(incoherence_values)"
   ]
  },
  {
   "cell_type": "code",
   "execution_count": 86,
   "id": "cd5c6152-5006-4a4a-b9d2-d86d278db8bb",
   "metadata": {},
   "outputs": [],
   "source": [
    "# embd_aca = pd.read_csv('./results/latent_space_with_aca.csv', index_col= 0)[['dim1', 'dim2']]\n",
    "# embd_no_aca = pd.read_csv('./results/latent_space_no_aca.csv', index_col= 0)[['dim1', 'dim2']]\n",
    "\n",
    "embd_aca = pd.read_csv('./results/embeddings_with_aca.csv', index_col= 0) #[['dim1', 'dim2']]\n",
    "embd_no_aca = pd.read_csv('./results/embeddings_no_aca.csv', index_col= 0) #[['dim1', 'dim2']]\n",
    "\n",
    "label = pd.read_csv('./results/chemical_space.csv', index_col= 0)"
   ]
  },
  {
   "cell_type": "code",
   "execution_count": 87,
   "id": "4d84fc9a-f636-4f65-bc69-b929b1ea6c00",
   "metadata": {},
   "outputs": [],
   "source": [
    "X1 = embd_aca.values\n",
    "X2 = embd_no_aca.values"
   ]
  },
  {
   "cell_type": "code",
   "execution_count": 88,
   "id": "e19a8d6b-e206-4484-90c4-f842fe46e348",
   "metadata": {},
   "outputs": [],
   "source": [
    "y = label.pChEMBL.values"
   ]
  },
  {
   "cell_type": "code",
   "execution_count": 89,
   "id": "65f2b043-2304-4491-a12d-66bf36f052a2",
   "metadata": {},
   "outputs": [
    {
     "name": "stdout",
     "output_type": "stream",
     "text": [
      "基于模型（with-aca）隐空间的标签不连贯性: 0.199171875\n"
     ]
    }
   ],
   "source": [
    "lii = label_incoherence_index(X1, y)\n",
    "print(\"基于模型（with-aca）隐空间的标签不连贯性:\", lii)"
   ]
  },
  {
   "cell_type": "code",
   "execution_count": 90,
   "id": "d141c2ab-c37d-4929-9149-f35b107db7bb",
   "metadata": {},
   "outputs": [
    {
     "name": "stdout",
     "output_type": "stream",
     "text": [
      "基于模型（non-aca）隐空间的标签不连贯性: 0.28993749999999996\n"
     ]
    }
   ],
   "source": [
    "lii = label_incoherence_index(X2, y)\n",
    "print(\"基于模型（non-aca）隐空间的标签不连贯性:\", lii)"
   ]
  },
  {
   "cell_type": "code",
   "execution_count": 97,
   "id": "085bab60-64cd-4f0c-85ab-55b031a68e64",
   "metadata": {},
   "outputs": [
    {
     "data": {
      "text/plain": [
       "0.008533438520324624"
      ]
     },
     "execution_count": 97,
     "metadata": {},
     "output_type": "execute_result"
    }
   ],
   "source": [
    "fii = feature_incoherence_index(X1)\n",
    "fii"
   ]
  },
  {
   "cell_type": "code",
   "execution_count": 98,
   "id": "7b220a5f-bbaa-443e-aa41-6e8c77e56f85",
   "metadata": {},
   "outputs": [
    {
     "data": {
      "text/plain": [
       "0.029359810330929898"
      ]
     },
     "execution_count": 98,
     "metadata": {},
     "output_type": "execute_result"
    }
   ],
   "source": [
    "fii = feature_incoherence_index(X2)\n",
    "fii"
   ]
  },
  {
   "cell_type": "code",
   "execution_count": null,
   "id": "dc444c82-4275-4f33-bf07-c75370f0fb23",
   "metadata": {},
   "outputs": [],
   "source": []
  },
  {
   "cell_type": "code",
   "execution_count": 100,
   "id": "84fa2798-33f8-4513-8c96-4cbcf6295319",
   "metadata": {},
   "outputs": [
    {
     "name": "stderr",
     "output_type": "stream",
     "text": [
      "100%|##########| 128/128 [00:00<00:00, 8390.97it/s]\n"
     ]
    }
   ],
   "source": [
    "dim = 2048\n",
    "from rdkit.Chem import AllChem\n",
    "mols = [Chem.MolFromSmiles(s) for s in embd_aca.index]\n",
    "ECFP4_fps = [AllChem.GetMorganFingerprintAsBitVect(x,2,dim) for x in tqdm(mols, ascii=True)]\n",
    "ecfps = np.array([list(fp) for fp in ECFP4_fps])"
   ]
  },
  {
   "cell_type": "code",
   "execution_count": 95,
   "id": "da637b3d-7969-45b2-a8a6-6bc4dfb98d20",
   "metadata": {},
   "outputs": [
    {
     "name": "stdout",
     "output_type": "stream",
     "text": [
      "基于结构的标签不连贯性: 0.48994531249999995\n"
     ]
    }
   ],
   "source": [
    "lii = label_incoherence_index(ecfps, y)\n",
    "print(\"基于结构的标签不连贯性:\", lii)"
   ]
  },
  {
   "cell_type": "code",
   "execution_count": null,
   "id": "6c6631f8-bd70-4505-b8a7-be7b81d5e16b",
   "metadata": {},
   "outputs": [],
   "source": []
  },
  {
   "cell_type": "code",
   "execution_count": 101,
   "id": "da3aec7f-5918-4387-94e0-77481aa20689",
   "metadata": {},
   "outputs": [
    {
     "data": {
      "text/plain": [
       "0.14218594244112037"
      ]
     },
     "execution_count": 101,
     "metadata": {},
     "output_type": "execute_result"
    }
   ],
   "source": [
    "fii = feature_incoherence_index(ecfps)\n",
    "fii"
   ]
  },
  {
   "cell_type": "code",
   "execution_count": null,
   "id": "a542b968-c972-4ea3-84a4-965f020df689",
   "metadata": {},
   "outputs": [],
   "source": []
  },
  {
   "cell_type": "code",
   "execution_count": null,
   "id": "605c8b32-09d7-4852-b1cf-aa516ba30fc0",
   "metadata": {},
   "outputs": [],
   "source": []
  },
  {
   "cell_type": "code",
   "execution_count": null,
   "id": "a82c7fba-ca98-4360-bfac-b261d98e66b4",
   "metadata": {},
   "outputs": [],
   "source": []
  },
  {
   "cell_type": "code",
   "execution_count": null,
   "id": "41b33cfc-6cbf-431f-b650-96185cd862bd",
   "metadata": {},
   "outputs": [],
   "source": []
  }
 ],
 "metadata": {
  "kernelspec": {
   "display_name": "Python 3 (ipykernel)",
   "language": "python",
   "name": "python3"
  },
  "language_info": {
   "codemirror_mode": {
    "name": "ipython",
    "version": 3
   },
   "file_extension": ".py",
   "mimetype": "text/x-python",
   "name": "python",
   "nbconvert_exporter": "python",
   "pygments_lexer": "ipython3",
   "version": "3.8.18"
  }
 },
 "nbformat": 4,
 "nbformat_minor": 5
}
