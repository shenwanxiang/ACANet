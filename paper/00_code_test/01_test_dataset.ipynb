{
 "cells": [
  {
   "cell_type": "code",
   "execution_count": 1,
   "id": "309f8010-f75b-4d11-9f41-e1b1dbfb31d7",
   "metadata": {},
   "outputs": [],
   "source": [
    "import sys\n",
    "sys.path.insert(0, '/home/shenwanxiang/Research/bidd-clsar/')\n",
    "\n",
    "\n",
    "from math import sqrt\n",
    "import pandas as pd\n",
    "\n",
    "import torch\n",
    "import torch.nn.functional as F\n",
    "from rdkit import Chem\n",
    "\n",
    "from torch_geometric.loader import DataLoader\n",
    "from torch_geometric.datasets import MoleculeNet\n",
    "from torch_geometric.nn.models import AttentiveFP"
   ]
  },
  {
   "cell_type": "code",
   "execution_count": 2,
   "id": "01c42ea5-2fc4-4f82-b672-e1eb99904a02",
   "metadata": {},
   "outputs": [],
   "source": [
    "from clsar.dataset import LSSNS, HSSMS # dataset\n",
    "from clsar.feature import Gen115AtomFeatures, GenAttentiveFeatures # feature\n",
    "from clsar.model import ACANet_GCN, ACANet_GIN, ACANet_GAT, ACANet_PNA # model"
   ]
  },
  {
   "cell_type": "code",
   "execution_count": 3,
   "id": "497e4db5-1c5c-441e-8194-86e9d3a2feed",
   "metadata": {},
   "outputs": [
    {
     "data": {
      "text/plain": [
       "dict_keys(['chembl1871_ki', 'chembl218_ec50', 'chembl244_ki', 'chembl236_ki', 'chembl234_ki', 'chembl219_ki', 'chembl238_ki', 'chembl4203_ki', 'chembl2047_ec50', 'chembl4616_ec50', 'chembl2034_ki', 'chembl262_ki', 'chembl231_ki', 'chembl264_ki', 'chembl2835_ki', 'chembl2971_ki', 'chembl237_ec50', 'chembl237_ki', 'chembl4792_ki', 'chembl239_ec50', 'chembl3979_ec50', 'chembl235_ec50', 'chembl4005_ki', 'chembl2147_ki', 'chembl214_ki', 'chembl228_ki', 'chembl287_ki', 'chembl204_ki', 'chembl1862_ki', 'chembl233_ki'])"
      ]
     },
     "execution_count": 3,
     "metadata": {},
     "output_type": "execute_result"
    }
   ],
   "source": [
    "HSSMS.names.keys()"
   ]
  },
  {
   "cell_type": "code",
   "execution_count": 4,
   "id": "a3820849-6d74-4cfa-80db-a39635ca8e93",
   "metadata": {
    "tags": []
   },
   "outputs": [
    {
     "name": "stdout",
     "output_type": "stream",
     "text": [
      "chembl1871_ki\n",
      "chembl218_ec50\n",
      "chembl244_ki\n",
      "chembl236_ki\n",
      "chembl234_ki\n",
      "chembl219_ki\n",
      "chembl238_ki\n",
      "chembl4203_ki\n",
      "chembl2047_ec50\n",
      "chembl4616_ec50\n",
      "chembl2034_ki\n",
      "chembl262_ki\n"
     ]
    },
    {
     "name": "stderr",
     "output_type": "stream",
     "text": [
      "Processing...\n",
      "Done!\n",
      "Downloading https://raw.githubusercontent.com/bidd-group/MPCD/main/dataset/HSSMS/MoleculeACE_benchmark/CHEMBL231_Ki.csv\n"
     ]
    },
    {
     "name": "stdout",
     "output_type": "stream",
     "text": [
      "chembl231_ki\n"
     ]
    },
    {
     "name": "stderr",
     "output_type": "stream",
     "text": [
      "Processing...\n",
      "Done!\n",
      "Downloading https://raw.githubusercontent.com/bidd-group/MPCD/main/dataset/HSSMS/MoleculeACE_benchmark/CHEMBL264_Ki.csv\n"
     ]
    },
    {
     "name": "stdout",
     "output_type": "stream",
     "text": [
      "chembl264_ki\n"
     ]
    },
    {
     "name": "stderr",
     "output_type": "stream",
     "text": [
      "Processing...\n",
      "Done!\n",
      "Downloading https://raw.githubusercontent.com/bidd-group/MPCD/main/dataset/HSSMS/MoleculeACE_benchmark/CHEMBL2835_Ki.csv\n"
     ]
    },
    {
     "name": "stdout",
     "output_type": "stream",
     "text": [
      "chembl2835_ki\n"
     ]
    },
    {
     "name": "stderr",
     "output_type": "stream",
     "text": [
      "Processing...\n",
      "Done!\n",
      "Downloading https://raw.githubusercontent.com/bidd-group/MPCD/main/dataset/HSSMS/MoleculeACE_benchmark/CHEMBL2971_Ki.csv\n"
     ]
    },
    {
     "name": "stdout",
     "output_type": "stream",
     "text": [
      "chembl2971_ki\n"
     ]
    },
    {
     "name": "stderr",
     "output_type": "stream",
     "text": [
      "Processing...\n",
      "Done!\n",
      "Downloading https://raw.githubusercontent.com/bidd-group/MPCD/main/dataset/HSSMS/MoleculeACE_benchmark/CHEMBL237_EC50.csv\n"
     ]
    },
    {
     "name": "stdout",
     "output_type": "stream",
     "text": [
      "chembl237_ec50\n"
     ]
    },
    {
     "name": "stderr",
     "output_type": "stream",
     "text": [
      "Processing...\n",
      "Done!\n",
      "Downloading https://raw.githubusercontent.com/bidd-group/MPCD/main/dataset/HSSMS/MoleculeACE_benchmark/CHEMBL237_Ki.csv\n"
     ]
    },
    {
     "name": "stdout",
     "output_type": "stream",
     "text": [
      "chembl237_ki\n"
     ]
    },
    {
     "name": "stderr",
     "output_type": "stream",
     "text": [
      "Processing...\n",
      "Done!\n",
      "Downloading https://raw.githubusercontent.com/bidd-group/MPCD/main/dataset/HSSMS/MoleculeACE_benchmark/CHEMBL4792_Ki.csv\n"
     ]
    },
    {
     "name": "stdout",
     "output_type": "stream",
     "text": [
      "chembl4792_ki\n"
     ]
    },
    {
     "name": "stderr",
     "output_type": "stream",
     "text": [
      "Processing...\n",
      "Done!\n",
      "Downloading https://raw.githubusercontent.com/bidd-group/MPCD/main/dataset/HSSMS/MoleculeACE_benchmark/CHEMBL239_EC50.csv\n"
     ]
    },
    {
     "name": "stdout",
     "output_type": "stream",
     "text": [
      "chembl239_ec50\n"
     ]
    },
    {
     "name": "stderr",
     "output_type": "stream",
     "text": [
      "Processing...\n",
      "Done!\n",
      "Downloading https://raw.githubusercontent.com/bidd-group/MPCD/main/dataset/HSSMS/MoleculeACE_benchmark/CHEMBL3979_EC50.csv\n"
     ]
    },
    {
     "name": "stdout",
     "output_type": "stream",
     "text": [
      "chembl3979_ec50\n"
     ]
    },
    {
     "name": "stderr",
     "output_type": "stream",
     "text": [
      "Processing...\n",
      "Done!\n",
      "Downloading https://raw.githubusercontent.com/bidd-group/MPCD/main/dataset/HSSMS/MoleculeACE_benchmark/CHEMBL235_EC50.csv\n"
     ]
    },
    {
     "name": "stdout",
     "output_type": "stream",
     "text": [
      "chembl235_ec50\n"
     ]
    },
    {
     "name": "stderr",
     "output_type": "stream",
     "text": [
      "Processing...\n",
      "Done!\n",
      "Downloading https://raw.githubusercontent.com/bidd-group/MPCD/main/dataset/HSSMS/MoleculeACE_benchmark/CHEMBL4005_Ki.csv\n"
     ]
    },
    {
     "name": "stdout",
     "output_type": "stream",
     "text": [
      "chembl4005_ki\n"
     ]
    },
    {
     "name": "stderr",
     "output_type": "stream",
     "text": [
      "Processing...\n",
      "Done!\n",
      "Downloading https://raw.githubusercontent.com/bidd-group/MPCD/main/dataset/HSSMS/MoleculeACE_benchmark/CHEMBL2147_Ki.csv\n"
     ]
    },
    {
     "name": "stdout",
     "output_type": "stream",
     "text": [
      "chembl2147_ki\n"
     ]
    },
    {
     "name": "stderr",
     "output_type": "stream",
     "text": [
      "Processing...\n",
      "Done!\n",
      "Downloading https://raw.githubusercontent.com/bidd-group/MPCD/main/dataset/HSSMS/MoleculeACE_benchmark/CHEMBL214_Ki.csv\n"
     ]
    },
    {
     "name": "stdout",
     "output_type": "stream",
     "text": [
      "chembl214_ki\n"
     ]
    },
    {
     "name": "stderr",
     "output_type": "stream",
     "text": [
      "Processing...\n",
      "Done!\n",
      "Downloading https://raw.githubusercontent.com/bidd-group/MPCD/main/dataset/HSSMS/MoleculeACE_benchmark/CHEMBL228_Ki.csv\n"
     ]
    },
    {
     "name": "stdout",
     "output_type": "stream",
     "text": [
      "chembl228_ki\n"
     ]
    },
    {
     "name": "stderr",
     "output_type": "stream",
     "text": [
      "Processing...\n",
      "Done!\n",
      "Downloading https://raw.githubusercontent.com/bidd-group/MPCD/main/dataset/HSSMS/MoleculeACE_benchmark/CHEMBL287_Ki.csv\n"
     ]
    },
    {
     "name": "stdout",
     "output_type": "stream",
     "text": [
      "chembl287_ki\n"
     ]
    },
    {
     "name": "stderr",
     "output_type": "stream",
     "text": [
      "Processing...\n",
      "Done!\n",
      "Downloading https://raw.githubusercontent.com/bidd-group/MPCD/main/dataset/HSSMS/MoleculeACE_benchmark/CHEMBL204_Ki.csv\n"
     ]
    },
    {
     "name": "stdout",
     "output_type": "stream",
     "text": [
      "chembl204_ki\n"
     ]
    },
    {
     "name": "stderr",
     "output_type": "stream",
     "text": [
      "Processing...\n",
      "Done!\n",
      "Downloading https://raw.githubusercontent.com/bidd-group/MPCD/main/dataset/HSSMS/MoleculeACE_benchmark/CHEMBL1862_Ki.csv\n"
     ]
    },
    {
     "name": "stdout",
     "output_type": "stream",
     "text": [
      "chembl1862_ki\n"
     ]
    },
    {
     "name": "stderr",
     "output_type": "stream",
     "text": [
      "Processing...\n",
      "Done!\n",
      "Downloading https://raw.githubusercontent.com/bidd-group/MPCD/main/dataset/HSSMS/MoleculeACE_benchmark/CHEMBL233_Ki.csv\n"
     ]
    },
    {
     "name": "stdout",
     "output_type": "stream",
     "text": [
      "chembl233_ki\n"
     ]
    },
    {
     "name": "stderr",
     "output_type": "stream",
     "text": [
      "Processing...\n",
      "Done!\n"
     ]
    }
   ],
   "source": [
    "for dataset_name in HSSMS.names.keys():\n",
    "    \n",
    "    print(dataset_name)\n",
    "    #dataset_name = 'plk1'\n",
    "    Dataset =  HSSMS # MoleculeNet\n",
    "    epochs = 500\n",
    "\n",
    "    pre_transform = GenAttentiveFeatures()\n",
    "    in_channels = 39\n",
    "    path = '/tmp/test/tmpignore4'\n",
    "\n",
    "    dataset = Dataset(path, name=dataset_name, pre_transform=pre_transform).shuffle()\n",
    "\n",
    "    batch_size = 16\n",
    "\n",
    "    # train, valid, test splitting\n",
    "    N = len(dataset) // 5\n",
    "    val_dataset = dataset[:N]\n",
    "    test_dataset = dataset[N:2 * N]\n",
    "    train_dataset = dataset[2 * N:]\n",
    "\n",
    "    train_loader = DataLoader(train_dataset, batch_size=batch_size, shuffle=True)\n",
    "    val_loader = DataLoader(val_dataset, batch_size=batch_size)\n",
    "    test_loader = DataLoader(test_dataset, batch_size=batch_size)\n",
    "\n",
    "    device = torch.device('cuda' if torch.cuda.is_available() else 'cpu')"
   ]
  },
  {
   "cell_type": "code",
   "execution_count": 9,
   "id": "33fcccc1-67e0-436b-a01d-5a8b4f9e0dcd",
   "metadata": {},
   "outputs": [
    {
     "data": {
      "text/plain": [
       "tensor([0, 0, 0,  ..., 1, 1, 1])"
      ]
     },
     "execution_count": 9,
     "metadata": {},
     "output_type": "execute_result"
    }
   ],
   "source": [
    "dataset.data.cliff"
   ]
  },
  {
   "cell_type": "code",
   "execution_count": null,
   "id": "a436d752-fffb-43d3-8f93-3f777d432e99",
   "metadata": {},
   "outputs": [],
   "source": []
  }
 ],
 "metadata": {
  "kernelspec": {
   "display_name": "Python 3 (ipykernel)",
   "language": "python",
   "name": "python3"
  },
  "language_info": {
   "codemirror_mode": {
    "name": "ipython",
    "version": 3
   },
   "file_extension": ".py",
   "mimetype": "text/x-python",
   "name": "python",
   "nbconvert_exporter": "python",
   "pygments_lexer": "ipython3",
   "version": "3.9.7"
  }
 },
 "nbformat": 4,
 "nbformat_minor": 5
}
