{
 "cells": [
  {
   "cell_type": "code",
   "execution_count": 1,
   "id": "309f8010-f75b-4d11-9f41-e1b1dbfb31d7",
   "metadata": {},
   "outputs": [],
   "source": [
    "import sys\n",
    "sys.path.insert(0, '/home/shenwanxiang/Research/bidd-clsar/')\n",
    "\n",
    "\n",
    "from math import sqrt\n",
    "import pandas as pd\n",
    "\n",
    "import torch\n",
    "import torch.nn.functional as F\n",
    "from rdkit import Chem"
   ]
  },
  {
   "cell_type": "code",
   "execution_count": 2,
   "id": "01c42ea5-2fc4-4f82-b672-e1eb99904a02",
   "metadata": {},
   "outputs": [],
   "source": [
    "from clsar.dataset import LSSNS, HSSMS # dataset\n",
    "from clsar.feature import Gen39AtomFeatures # feature\n",
    "from clsar.model.model import ACANet_GCN, ACANet_GIN, ACANet_GAT, ACANet_PNA # model\n",
    "from torch_geometric.loader import DataLoader\n"
   ]
  },
  {
   "cell_type": "code",
   "execution_count": 3,
   "id": "497e4db5-1c5c-441e-8194-86e9d3a2feed",
   "metadata": {},
   "outputs": [
    {
     "data": {
      "text/plain": [
       "dict_keys(['chembl1871_ki', 'chembl218_ec50', 'chembl244_ki', 'chembl236_ki', 'chembl234_ki', 'chembl219_ki', 'chembl238_ki', 'chembl4203_ki', 'chembl2047_ec50', 'chembl4616_ec50', 'chembl2034_ki', 'chembl262_ki', 'chembl231_ki', 'chembl264_ki', 'chembl2835_ki', 'chembl2971_ki', 'chembl237_ec50', 'chembl237_ki', 'chembl4792_ki', 'chembl239_ec50', 'chembl3979_ec50', 'chembl235_ec50', 'chembl4005_ki', 'chembl2147_ki', 'chembl214_ki', 'chembl228_ki', 'chembl287_ki', 'chembl204_ki', 'chembl1862_ki', 'chembl233_ki'])"
      ]
     },
     "execution_count": 3,
     "metadata": {},
     "output_type": "execute_result"
    }
   ],
   "source": [
    "HSSMS.names.keys()"
   ]
  },
  {
   "cell_type": "code",
   "execution_count": 11,
   "id": "a3820849-6d74-4cfa-80db-a39635ca8e93",
   "metadata": {
    "tags": []
   },
   "outputs": [],
   "source": [
    "pre_transform = Gen39AtomFeatures()\n",
    "\n",
    "for dataset_name in HSSMS.names.keys():\n",
    "    \n",
    "    print(dataset_name)\n",
    "    #dataset_name = 'plk1'\n",
    "    Dataset =  HSSMS # MoleculeNet\n",
    "    epochs = 500\n",
    "    \n",
    "    in_channels = 39\n",
    "    path = '/tmp/test/tmpignore4'\n",
    "\n",
    "    dataset = Dataset(path, name=dataset_name, pre_transform=pre_transform).shuffle()\n",
    "\n",
    "    batch_size = 16\n",
    "\n",
    "    # train, valid, test splitting\n",
    "    N = len(dataset) // 5\n",
    "    val_dataset = dataset[:N]\n",
    "    test_dataset = dataset[N:2 * N]\n",
    "    train_dataset = dataset[2 * N:]\n",
    "\n",
    "    train_loader = DataLoader(train_dataset, batch_size=batch_size, shuffle=True)\n",
    "    val_loader = DataLoader(val_dataset, batch_size=batch_size)\n",
    "    test_loader = DataLoader(test_dataset, batch_size=batch_size)\n",
    "\n",
    "    device = torch.device('cuda' if torch.cuda.is_available() else 'cpu')"
   ]
  },
  {
   "cell_type": "code",
   "execution_count": null,
   "id": "33fcccc1-67e0-436b-a01d-5a8b4f9e0dcd",
   "metadata": {},
   "outputs": [],
   "source": [
    "dataset.data.cliff"
   ]
  },
  {
   "cell_type": "code",
   "execution_count": null,
   "id": "a436d752-fffb-43d3-8f93-3f777d432e99",
   "metadata": {},
   "outputs": [],
   "source": []
  },
  {
   "cell_type": "code",
   "execution_count": null,
   "id": "7913ae07-2f7b-45c6-a1de-4071cec6bbe7",
   "metadata": {},
   "outputs": [],
   "source": []
  },
  {
   "cell_type": "code",
   "execution_count": null,
   "id": "d07aa885-0c60-458b-b7b2-360f602a7142",
   "metadata": {},
   "outputs": [],
   "source": []
  }
 ],
 "metadata": {
  "kernelspec": {
   "display_name": "Python 3 (ipykernel)",
   "language": "python",
   "name": "python3"
  },
  "language_info": {
   "codemirror_mode": {
    "name": "ipython",
    "version": 3
   },
   "file_extension": ".py",
   "mimetype": "text/x-python",
   "name": "python",
   "nbconvert_exporter": "python",
   "pygments_lexer": "ipython3",
   "version": "3.9.7"
  }
 },
 "nbformat": 4,
 "nbformat_minor": 5
}
