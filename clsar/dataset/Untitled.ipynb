{
 "cells": [
  {
   "cell_type": "code",
   "execution_count": 1,
   "id": "645bd3f1-7707-4b89-909e-0276dce9b13d",
   "metadata": {},
   "outputs": [],
   "source": [
    "import numpy as np"
   ]
  },
  {
   "cell_type": "code",
   "execution_count": 17,
   "id": "17d639a2-e53c-4b18-b10e-4d4f1ce92aae",
   "metadata": {},
   "outputs": [],
   "source": [
    "x = -2.69"
   ]
  },
  {
   "cell_type": "code",
   "execution_count": 25,
   "id": "a076b0d5-09f0-46e1-92ef-727839adde27",
   "metadata": {},
   "outputs": [
    {
     "data": {
      "text/plain": [
       "6.31"
      ]
     },
     "execution_count": 25,
     "metadata": {},
     "output_type": "execute_result"
    }
   ],
   "source": []
  },
  {
   "cell_type": "code",
   "execution_count": 24,
   "id": "044399e4-f789-4e5b-9c85-786dc8f6980d",
   "metadata": {},
   "outputs": [
    {
     "data": {
      "text/plain": [
       "2.6989700043360187"
      ]
     },
     "execution_count": 24,
     "metadata": {},
     "output_type": "execute_result"
    }
   ],
   "source": [
    "np.log10(500)"
   ]
  },
  {
   "cell_type": "code",
   "execution_count": 28,
   "id": "b23255ad-af4e-4aab-abb5-cbb554651ae4",
   "metadata": {},
   "outputs": [],
   "source": []
  },
  {
   "cell_type": "code",
   "execution_count": 30,
   "id": "b7449384-f551-46f1-ad58-39183a7494ff",
   "metadata": {},
   "outputs": [],
   "source": [
    "pIC50 = nm_log_to_pm_log(-2.69)"
   ]
  },
  {
   "cell_type": "code",
   "execution_count": 42,
   "id": "5aa7faa1-a180-43a1-b360-74697c48c625",
   "metadata": {},
   "outputs": [
    {
     "data": {
      "text/plain": [
       "-2.6900000000000004"
      ]
     },
     "execution_count": 42,
     "metadata": {},
     "output_type": "execute_result"
    }
   ],
   "source": []
  },
  {
   "cell_type": "code",
   "execution_count": 41,
   "id": "07019644-345a-4a25-b149-1c7dc59a0187",
   "metadata": {},
   "outputs": [
    {
     "data": {
      "text/plain": [
       "2.6989700043360187"
      ]
     },
     "execution_count": 41,
     "metadata": {},
     "output_type": "execute_result"
    }
   ],
   "source": [
    "np.log10(500)"
   ]
  },
  {
   "cell_type": "code",
   "execution_count": null,
   "id": "63ddccc7-68de-4d1e-9549-3b6736252ae9",
   "metadata": {},
   "outputs": [],
   "source": []
  }
 ],
 "metadata": {
  "kernelspec": {
   "display_name": "Python 3 (ipykernel)",
   "language": "python",
   "name": "python3"
  },
  "language_info": {
   "codemirror_mode": {
    "name": "ipython",
    "version": 3
   },
   "file_extension": ".py",
   "mimetype": "text/x-python",
   "name": "python",
   "nbconvert_exporter": "python",
   "pygments_lexer": "ipython3",
   "version": "3.9.7"
  }
 },
 "nbformat": 4,
 "nbformat_minor": 5
}
