{
 "cells": [
  {
   "cell_type": "code",
   "execution_count": 8,
   "id": "72360d37-e4c1-41c8-91e4-af65c88035be",
   "metadata": {},
   "outputs": [],
   "source": [
    "import sys\n",
    "sys.path.insert(0, '/home/shenwanxiang/Research/bidd-clsar/')\n",
    "\n",
    "import os\n",
    "os.environ[\"CUDA_VISIBLE_DEVICES\"]=\"0\"\n",
    "\n",
    "from math import sqrt\n",
    "import pandas as pd\n",
    "import numpy as np\n",
    "\n",
    "import torch\n",
    "import torch.nn.functional as F\n",
    "from rdkit import Chem\n",
    "\n",
    "from torch_geometric.loader import DataLoader\n",
    "from torch_geometric.datasets import MoleculeNet\n",
    "from torch_geometric.nn.models import AttentiveFP\n",
    "\n",
    "from clsar.dataset import LSSInhibitor # dataset\n",
    "from clsar.feature import Gen115AtomFeatures, GenAttentiveFeatures # feature\n",
    "from clsar.model import ACNet_GCN, ACNet_GIN, ACNet_GAT, ACNet_PNA # model\n",
    "from clsar.model.loss import ada_batch_all_triplet_loss, ada_batch_all_triplet_loss2"
   ]
  },
  {
   "cell_type": "code",
   "execution_count": null,
   "id": "d50b0eb5-1ffc-4068-be9a-be34f6786c84",
   "metadata": {},
   "outputs": [],
   "source": []
  },
  {
   "cell_type": "code",
   "execution_count": 10,
   "id": "c829da06-1ad2-4f33-8ba0-cf5ca583e035",
   "metadata": {},
   "outputs": [],
   "source": [
    "Dataset =  LSSInhibitor # MoleculeNet\n"
   ]
  },
  {
   "cell_type": "code",
   "execution_count": 16,
   "id": "481b1187-aeb5-428a-ae07-1c78ed5f6fa3",
   "metadata": {},
   "outputs": [],
   "source": [
    "dataset = Dataset(root = './tmpignore/', name='klk5', pre_transform=Gen115AtomFeatures())"
   ]
  },
  {
   "cell_type": "code",
   "execution_count": 19,
   "id": "4447e038-1df1-4765-a5e0-035da04c8b55",
   "metadata": {},
   "outputs": [],
   "source": [
    "data = dataset[-2]"
   ]
  },
  {
   "cell_type": "code",
   "execution_count": 20,
   "id": "91eb7b60-d5db-42cf-84d5-7534a6f73ee4",
   "metadata": {},
   "outputs": [
    {
     "data": {
      "text/plain": [
       "Data(x=[28, 115], edge_index=[2, 58], edge_attr=[58, 10], y=[1, 1], smiles='CCOc1cc(NCc2nc(-c3ccccc3)c[nH]2)ccc1C(=N)N.O=CO')"
      ]
     },
     "execution_count": 20,
     "metadata": {},
     "output_type": "execute_result"
    }
   ],
   "source": [
    "data"
   ]
  },
  {
   "cell_type": "code",
   "execution_count": 22,
   "id": "63a3f841-1c9d-4734-9096-a9f3abc7e731",
   "metadata": {},
   "outputs": [
    {
     "data": {
      "text/plain": [
       "torch.Size([28, 115])"
      ]
     },
     "execution_count": 22,
     "metadata": {},
     "output_type": "execute_result"
    }
   ],
   "source": [
    "data.x.shape"
   ]
  },
  {
   "cell_type": "code",
   "execution_count": 23,
   "id": "ad5a564e-e409-45e0-a835-9457655e702a",
   "metadata": {},
   "outputs": [
    {
     "data": {
      "text/plain": [
       "torch.Size([1, 1])"
      ]
     },
     "execution_count": 23,
     "metadata": {},
     "output_type": "execute_result"
    }
   ],
   "source": [
    "data.y.shape"
   ]
  },
  {
   "cell_type": "code",
   "execution_count": 27,
   "id": "78dd5e00-b5a6-4bc7-b289-9b80e5d94118",
   "metadata": {},
   "outputs": [
    {
     "data": {
      "image/png": "[encoded data removed]",
      "text/plain": [
       "<rdkit.Chem.rdchem.Mol at 0x7ff1e1b8cac0>"
      ]
     },
     "execution_count": 27,
     "metadata": {},
     "output_type": "execute_result"
    }
   ],
   "source": [
    "mol = Chem.MolFromSmiles(data.smiles)\n",
    "mol"
   ]
  },
  {
   "cell_type": "code",
   "execution_count": 28,
   "id": "2dfd010c-c5c0-4f92-9c17-2b6dfb07f089",
   "metadata": {},
   "outputs": [
    {
     "data": {
      "text/plain": [
       "28"
      ]
     },
     "execution_count": 28,
     "metadata": {},
     "output_type": "execute_result"
    }
   ],
   "source": [
    "mol.GetNumAtoms()"
   ]
  },
  {
   "cell_type": "code",
   "execution_count": null,
   "id": "498217be-a985-4d52-92e0-62f1bbc4dead",
   "metadata": {},
   "outputs": [],
   "source": []
  }
 ],
 "metadata": {
  "kernelspec": {
   "display_name": "Python 3 (ipykernel)",
   "language": "python",
   "name": "python3"
  },
  "language_info": {
   "codemirror_mode": {
    "name": "ipython",
    "version": 3
   },
   "file_extension": ".py",
   "mimetype": "text/x-python",
   "name": "python",
   "nbconvert_exporter": "python",
   "pygments_lexer": "ipython3",
   "version": "3.9.7"
  }
 },
 "nbformat": 4,
 "nbformat_minor": 5
}
