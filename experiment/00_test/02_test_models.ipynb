{
 "cells": [
  {
   "cell_type": "code",
   "execution_count": 1,
   "id": "309f8010-f75b-4d11-9f41-e1b1dbfb31d7",
   "metadata": {},
   "outputs": [],
   "source": [
    "from torch_geometric.loader import DataLoader\n",
    "from rdkit import Chem\n",
    "import torch.nn.functional as F\n",
    "import torch\n",
    "import pandas as pd\n",
    "from math import sqrt\n",
    "import matplotlib.pyplot as plt\n",
    "from tqdm import tqdm\n",
    "\n",
    "import sys\n",
    "sys.path.insert(0, '/home/shenwanxiang/Research/bidd-clsar/')"
   ]
  },
  {
   "cell_type": "code",
   "execution_count": 2,
   "id": "a7ef92ba-2ba3-45aa-b0c9-2f4be94cd597",
   "metadata": {},
   "outputs": [
    {
     "name": "stdout",
     "output_type": "stream",
     "text": [
      "1\n"
     ]
    }
   ],
   "source": [
    "gpuid = 1\n",
    "torch.cuda.set_device(gpuid)\n",
    "print(torch.cuda.current_device())"
   ]
  },
  {
   "cell_type": "code",
   "execution_count": 3,
   "id": "01c42ea5-2fc4-4f82-b672-e1eb99904a02",
   "metadata": {},
   "outputs": [],
   "source": [
    "from clsar.dataset import LSSNS, HSSMS  # dataset\n",
    "from clsar.feature import Gen39AtomFeatures  # feature\n",
    "from clsar.model.model import ACANet_GCN, ACANet_GIN, ACANet_GAT, ACANet_PNA, get_deg  # model"
   ]
  },
  {
   "cell_type": "code",
   "execution_count": 4,
   "id": "a3820849-6d74-4cfa-80db-a39635ca8e93",
   "metadata": {
    "tags": []
   },
   "outputs": [],
   "source": [
    "lr = 10**-4\n",
    "epochs = 900\n",
    "batch_size = 128\n",
    "Dataset = HSSMS\n",
    "pre_transform = Gen39AtomFeatures()\n",
    "in_channels = pre_transform.in_channels\n",
    "\n",
    "\n",
    "def train(train_loader, model, optimizer):\n",
    "    model.train()\n",
    "    total_loss = total_examples = 0\n",
    "    for data in train_loader:\n",
    "        data = data.to(device)\n",
    "        optimizer.zero_grad()\n",
    "        out, embed = model(data.x.float(), data.edge_index,\n",
    "                           data.edge_attr, data.batch)\n",
    "        loss = F.mse_loss(out, data.y)\n",
    "        loss.backward()\n",
    "        optimizer.step()\n",
    "        total_loss += float(loss) * data.num_graphs\n",
    "        total_examples += data.num_graphs\n",
    "    return sqrt(total_loss / total_examples)\n",
    "\n",
    "@torch.no_grad()\n",
    "def test(loader, model):\n",
    "    mse = []\n",
    "    model.eval()\n",
    "    for data in loader:\n",
    "        data = data.to(device)\n",
    "        out, embed = model(data.x.float(), data.edge_index,\n",
    "                           data.edge_attr, data.batch)\n",
    "        mse.append(F.mse_loss(out, data.y, reduction='none').cpu())\n",
    "    return float(torch.cat(mse, dim=0).mean().sqrt())"
   ]
  },
  {
   "cell_type": "code",
   "execution_count": null,
   "id": "13188f92-868c-4e88-873b-5b7902bc6e21",
   "metadata": {
    "tags": []
   },
   "outputs": [
    {
     "name": "stderr",
     "output_type": "stream",
     "text": [
      "  0%|                                                                                            | 0/16 [00:00<?, ?it/s]"
     ]
    },
    {
     "name": "stdout",
     "output_type": "stream",
     "text": [
      "chembl2835_ki\n",
      "ACANet_GCN ##################################################\n"
     ]
    }
   ],
   "source": [
    "results = [] \n",
    "for dataset_name in tqdm(list(Dataset.names.keys())[14:]): # \n",
    "    print(dataset_name)\n",
    "    #dataset_name = 'plk1'\n",
    "    path = './tmpignore/data5'\n",
    "    dataset = Dataset(path, name=dataset_name,\n",
    "                      pre_transform=pre_transform).shuffle()\n",
    "\n",
    "    # train, valid, test splitting\n",
    "    N = len(dataset) // 5\n",
    "    val_dataset = dataset[:N]\n",
    "    test_dataset = dataset[N:2 * N]\n",
    "    train_dataset = dataset[2 * N:]\n",
    "    \n",
    "    deg = get_deg(train_dataset)\n",
    "    \n",
    "    train_loader = DataLoader(\n",
    "        train_dataset, batch_size=batch_size, shuffle=True)\n",
    "    val_loader = DataLoader(val_dataset, batch_size=batch_size)\n",
    "    test_loader = DataLoader(test_dataset, batch_size=batch_size)\n",
    "\n",
    "    device = torch.device('cuda' if torch.cuda.is_available() else 'cpu')\n",
    "\n",
    "    # 4 kind of models\n",
    "    pub_args = {'in_channels': in_channels, \n",
    "                'convs_layers':[64, 128, 256], \n",
    "                'out_channels': 1, 'edge_dim': 10, }\n",
    "    model_1 = ACANet_GCN(**pub_args).to(device)\n",
    "    model_2 = ACANet_GIN(**pub_args, eps=0.0, train_eps=False).to(device)\n",
    "    model_3 = ACANet_GAT(**pub_args, dropout=0.1, heads=3).to(device)\n",
    "    model_4 = ACANet_PNA(**pub_args, aggregators=['mean', 'min', 'max', 'sum'],\n",
    "                         scalers=['identity', 'amplification', 'attenuation'] ,\n",
    "                         deg=deg).to(device)\n",
    "\n",
    "    res = {}\n",
    "    for model, name in zip([model_1,\n",
    "                            model_2,\n",
    "                            model_3,\n",
    "                            model_4],\n",
    "                           ['ACANet_GCN',\n",
    "                            'ACANet_GIN',\n",
    "                            'ACANet_GAT',\n",
    "                            'ACANet_PNA']):\n",
    "\n",
    "        print(name, '#'*50)\n",
    "\n",
    "\n",
    "        optimizer = torch.optim.Adam(model.parameters(), lr=lr,\n",
    "                                     weight_decay=10**-5)\n",
    "        history = []\n",
    "        for epoch in range(1, epochs):\n",
    "            train_rmse = train(train_loader, model, optimizer)\n",
    "            val_rmse = test(val_loader, model)\n",
    "            test_rmse = test(test_loader, model)\n",
    "            # print(f'Epoch: {epoch:03d}, Loss: {train_rmse:.4f} Val: {val_rmse:.4f} '\n",
    "            #       f'Test: {test_rmse:.4f}')\n",
    "\n",
    "            history.append({'Epoch': epoch, 'train_rmse': train_rmse,\n",
    "                           'val_rmse': val_rmse, 'test_rmse': test_rmse})\n",
    "        res.update({name: history})\n",
    "\n",
    "    df = pd.DataFrame(res)\n",
    "\n",
    "    def _get_score(x):\n",
    "        df1 = x.apply(pd.Series)\n",
    "        val_rmse = df1.iloc[df1.val_rmse.idxmin()].val_rmse\n",
    "        test_rmse = df1.iloc[df1.val_rmse.idxmin()].test_rmse\n",
    "        return val_rmse, test_rmse\n",
    "\n",
    "    dfres = df.apply(_get_score, axis=0)\n",
    "    dfres.index = ['val_rmse', 'test_rmse']\n",
    "    dfres = dfres.unstack().reset_index()\n",
    "    dfres.columns = ['model', 'metric', 'value']\n",
    "    dfres['dataset'] = dataset_name\n",
    "\n",
    "    results.append(dfres)"
   ]
  },
  {
   "cell_type": "code",
   "execution_count": null,
   "id": "1896e0c0-b764-4545-9267-d6d9f56a03bc",
   "metadata": {},
   "outputs": [],
   "source": [
    "dfp = pd.concat(results)\n",
    "dfp.to_csv('./test/model_comparsion.csv' )"
   ]
  },
  {
   "cell_type": "code",
   "execution_count": null,
   "id": "4de7bb21-2c2a-47fd-9388-a78cb26a43e7",
   "metadata": {},
   "outputs": [],
   "source": []
  },
  {
   "cell_type": "code",
   "execution_count": null,
   "id": "e5326619-0093-4bb5-9dae-c71fe1a5d3bb",
   "metadata": {},
   "outputs": [],
   "source": []
  },
  {
   "cell_type": "code",
   "execution_count": null,
   "id": "20789059-0d44-40b2-b4e5-e237510579d9",
   "metadata": {},
   "outputs": [],
   "source": []
  },
  {
   "cell_type": "code",
   "execution_count": null,
   "id": "d7533cbf-a01f-4b6e-91d5-fb5244407007",
   "metadata": {},
   "outputs": [],
   "source": [
    "dfp = pd.read_csv('./test/model_comparsion.csv' )"
   ]
  },
  {
   "cell_type": "code",
   "execution_count": null,
   "id": "09d4de35-d013-420a-af4d-298325552763",
   "metadata": {},
   "outputs": [],
   "source": [
    "dfp1 = dfp[dfp.metric == 'val_rmse']\n",
    "dfp2 = dfp[dfp.metric == 'test_rmse']"
   ]
  },
  {
   "cell_type": "code",
   "execution_count": null,
   "id": "68bd3324-0fbe-4193-b5a5-30e416a652c6",
   "metadata": {},
   "outputs": [],
   "source": [
    "order = dfp2.groupby('dataset').value.mean().sort_values().index.to_list()\n",
    "hue_order = dfp2.groupby('model').value.mean().sort_values().index.to_list()"
   ]
  },
  {
   "cell_type": "code",
   "execution_count": null,
   "id": "8f54d12a-c5aa-44ee-8324-9e6b9200df67",
   "metadata": {},
   "outputs": [],
   "source": [
    "import seaborn as sns\n",
    "sns.set(style='white',  font='sans-serif', font_scale=2)\n",
    "\n",
    "color = sns.color_palette(\"rainbow\", 4)  # PiYG\n",
    "sns.palplot(color)\n",
    "\n",
    "for dfps, label in zip([dfp1, dfp2], ['Val. RMSE', 'Test RMSE']):\n",
    "\n",
    "    fig, ax = plt.subplots(figsize=(16, 6))\n",
    "    sns.barplot(x='dataset', y='value', palette=color, order=order,\n",
    "                hue='model', data=dfps, ax=ax,\n",
    "                hue_order=hue_order)\n",
    "\n",
    "    ax.set_ylabel(label)\n",
    "    ax.set_xlabel('Dataset')\n",
    "    ax.spines['right'].set_visible(False)\n",
    "    ax.spines['top'].set_visible(False)\n",
    "\n",
    "    ax.set_xticklabels(order, rotation=45, ha='right')\n",
    "\n",
    "    ax.tick_params(axis='y', left='off', labelleft='on', pad=.3,)"
   ]
  },
  {
   "cell_type": "code",
   "execution_count": null,
   "id": "16363fce-71fe-40dc-bae6-fe6062ed32ca",
   "metadata": {},
   "outputs": [],
   "source": []
  },
  {
   "cell_type": "code",
   "execution_count": null,
   "id": "544ddbb8-7830-49f9-80c9-6c14b8a5fb8d",
   "metadata": {},
   "outputs": [],
   "source": []
  },
  {
   "cell_type": "code",
   "execution_count": null,
   "id": "e24c84a7-dd00-4212-bfd2-93237f45c278",
   "metadata": {},
   "outputs": [],
   "source": []
  },
  {
   "cell_type": "code",
   "execution_count": null,
   "id": "38570d2d-b53b-4004-a211-dde8233683a9",
   "metadata": {},
   "outputs": [],
   "source": []
  },
  {
   "cell_type": "code",
   "execution_count": null,
   "id": "4647e233-fe18-4e3a-bc92-29e0dacc7005",
   "metadata": {},
   "outputs": [],
   "source": []
  }
 ],
 "metadata": {
  "kernelspec": {
   "display_name": "Python 3 (ipykernel)",
   "language": "python",
   "name": "python3"
  },
  "language_info": {
   "codemirror_mode": {
    "name": "ipython",
    "version": 3
   },
   "file_extension": ".py",
   "mimetype": "text/x-python",
   "name": "python",
   "nbconvert_exporter": "python",
   "pygments_lexer": "ipython3",
   "version": "3.9.7"
  }
 },
 "nbformat": 4,
 "nbformat_minor": 5
}
