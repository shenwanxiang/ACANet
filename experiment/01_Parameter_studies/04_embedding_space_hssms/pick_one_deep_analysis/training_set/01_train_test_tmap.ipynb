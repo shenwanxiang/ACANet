{
 "cells": [
  {
   "cell_type": "code",
   "execution_count": 1,
   "id": "54702b3f-fea2-4719-ac82-f6c248da8d64",
   "metadata": {},
   "outputs": [],
   "source": [
    "import pandas as pd\n",
    "from rdkit.Chem import AllChem\n",
    "from rdkit import Chem\n",
    "from rdkit.Chem.Scaffolds import MurckoScaffold, rdScaffoldNetwork\n",
    "from rdkit.Chem import rdFMCS \n",
    "from rdkit import DataStructs, Chem\n",
    "from scipy.spatial.distance import squareform, cdist, pdist\n",
    "from scipy.cluster.hierarchy import fcluster, linkage, dendrogram\n",
    "import matplotlib.pylab as plt\n",
    "import numpy as np\n",
    "import pandas as pd\n",
    "from rdkit.Chem.Scaffolds.MurckoScaffold import MurckoScaffoldSmilesFromSmiles\n",
    "import tmap\n",
    "from faerun import Faerun\n",
    "from tqdm import tqdm\n",
    "from glob import glob\n",
    "import os\n",
    "\n",
    "from matplotlib.colors import ListedColormap\n",
    "import matplotlib as mpl\n",
    "\n",
    "import seaborn as sns\n",
    "import networkx as nx\n",
    "import matplotlib.pyplot as plt\n",
    "from mycolorpy import colorlist as mcp\n",
    "import numpy as np\n",
    "\n",
    "sns.set(style = 'white', font_scale=2)\n",
    "\n",
    "\n",
    "from clsar.dataset import LSSNS,HSSMS  # dataset\n",
    "\n",
    "seed = 100"
   ]
  },
  {
   "cell_type": "code",
   "execution_count": 2,
   "id": "511ab2ae-d9ac-4f6a-8e7f-3a6a9a330527",
   "metadata": {},
   "outputs": [],
   "source": [
    "\n",
    "\n",
    "dataset_dir = '/home/shenwanxiang/Research/MPCD/dataset/HSSMS/MoleculeACE_benchmark/'\n",
    "dataset_name = 'CHEMBL2835_Ki'\n",
    "data_save_folder = './results_tmap'\n",
    "\n",
    "df = pd.read_csv(os.path.join(dataset_dir,dataset_name + '.csv'), index_col = 'smiles')\n",
    "df_raw = pd.read_csv(os.path.join(dataset_dir,'raw',dataset_name+ '.csv'), index_col = 'smiles')\n",
    "df = df.join(df_raw.chembl_id).reset_index()\n",
    "df['pChEMBL Value'] = 9-np.log10(df['exp_mean [nM]'])\n",
    "df['cliff_mol'] = df['cliff_mol'].map({1:True, 0:False})\n",
    "\n",
    "\n",
    "df_test = df[df.split == 'test']\n",
    "df_train = df[df.split == 'train']\n",
    "len(df_test), len(df_train)\n",
    "\n",
    "#df_test.to_csv('./results_tmap/df_test.csv')\n",
    "df_train.to_csv('./results_tmap/df_train.csv')\n",
    "\n"
   ]
  },
  {
   "cell_type": "code",
   "execution_count": 3,
   "id": "0e66f761-0830-4117-830e-bbf92d4a9a16",
   "metadata": {},
   "outputs": [
    {
     "name": "stderr",
     "output_type": "stream",
     "text": [
      "100%|###########################################################################################| 126/126 [00:00<00:00, 24976.71it/s]\n"
     ]
    },
    {
     "data": {
      "text/html": [
       "\n",
       "        <iframe\n",
       "            width=\"100%\"\n",
       "            height=\"750\"\n",
       "            src=\"./results_tmap/CHEMBL2835_Ki_test.html\"\n",
       "            frameborder=\"0\"\n",
       "            allowfullscreen\n",
       "            \n",
       "        ></iframe>\n",
       "        "
      ],
      "text/plain": [
       "<IPython.lib.display.IFrame at 0x7f6c1fa63310>"
      ]
     },
     "metadata": {},
     "output_type": "display_data"
    },
    {
     "data": {
      "text/html": [
       "<a href='./results_tmap/CHEMBL2835_Ki_test.html' target='_blank'>./results_tmap/CHEMBL2835_Ki_test.html</a><br>"
      ],
      "text/plain": [
       "/home/shenwanxiang/Research/bidd-clsar/experiment/01_Parameter_studies/04_embedding_space_hssms/pick_one_deep_analysis/training_set/results_tmap/CHEMBL2835_Ki_test.html"
      ]
     },
     "metadata": {},
     "output_type": "display_data"
    }
   ],
   "source": [
    "df = df_test.reset_index(drop=True)\n",
    "smiles_list = df.smiles.to_list()\n",
    "\n",
    "dim = 2048\n",
    "\n",
    "mols = [Chem.MolFromSmiles(s) for s in smiles_list]\n",
    "ECFP4_fps = [AllChem.GetMorganFingerprintAsBitVect(x,2,dim) for x in tqdm(mols, ascii=True)]\n",
    "ecfps = [tmap.VectorUchar(list(fp)) for fp in ECFP4_fps]\n",
    "enc = tmap.Minhash(dim, seed = seed)\n",
    "lf = tmap.LSHForest(dim)\n",
    "lf.batch_add(enc.batch_from_binary_array(ecfps))\n",
    "lf.index()\n",
    "\n",
    "\n",
    "cfg = tmap.LayoutConfiguration()\n",
    "cfg.fme_randomize = False\n",
    "cfg.k = 50\n",
    "cfg.kc = 50\n",
    "cfg.sl_scaling_min = 1.0\n",
    "cfg.sl_scaling_max = 1.0\n",
    "cfg.sl_repeats = 1\n",
    "cfg.sl_extra_scaling_steps = 2 #2\n",
    "cfg.placer = tmap.Placer.Barycenter\n",
    "cfg.merger = tmap.Merger.LocalBiconnected\n",
    "cfg.merger_factor = 2.0\n",
    "cfg.merger_adjustment = 0\n",
    "cfg.fme_iterations = 40\n",
    "cfg.sl_scaling_type = tmap.ScalingType.RelativeToDesiredLength #\n",
    "cfg.node_size = 1/10\n",
    "cfg.mmm_repeats = 1\n",
    "\n",
    "\n",
    "x, y, s, t, gp = tmap.layout_from_lsh_forest(lf, config = cfg)\n",
    "\n",
    "c1 = df['pChEMBL Value'].round(2)\n",
    "c2 = df['cliff_mol']\n",
    "\n",
    "c = [c1, c2] #具体的属性数据\n",
    "\n",
    "series_title = ['pChEMBL',  'cliff_mol'] ##具体的属性数据名称\n",
    "\n",
    "categorical = [False, True]\n",
    "\n",
    "cmap = ['jet_r', 'Set1']\n",
    "\n",
    "min_legend_label= [float(c1.min()), None,]\n",
    "max_legend_label= [float(c1.max()), None,]\n",
    "\n",
    "labels = (df['smiles'] + \"__\" + df['chembl_id'] + ': ' + c1.astype(str)).tolist() #显示smiles， 以及图片中的标签\n",
    "\n",
    "point_scale = 15\n",
    "\n",
    "legend_labels = [None, None]\n",
    "#========================================================\n",
    "\n",
    "faerun = Faerun(view=\"front\", clear_color='#111111',coords=False) #'#ffffff'\n",
    "faerun.add_scatter(dataset_name, { \"x\": x, \"y\": y, \n",
    "                              \"c\": c, \"labels\": labels},\n",
    "                   legend_labels = legend_labels,\n",
    "                   categorical = categorical,\n",
    "                   max_legend_label = max_legend_label,\n",
    "                   min_legend_label = min_legend_label,\n",
    "                   point_scale=point_scale,\n",
    "                   colormap = cmap,\n",
    "                   has_legend=True,\n",
    "                   series_title = series_title,\n",
    "                   shader = 'smoothCircle') #\"sphere\", #\n",
    "\n",
    "faerun.add_tree(dataset_name + \"_tree\", {\"from\": s, \"to\": t}, \n",
    "                point_helper=dataset_name,  color='#666666', ) #colors when no value\n",
    "\n",
    "# Choose the \"smiles\" template to display structure on hover\n",
    "faerun.plot(dataset_name+'_test', path = data_save_folder, template=\"smiles\", notebook_height=750)"
   ]
  },
  {
   "cell_type": "code",
   "execution_count": null,
   "id": "5aeb8601-3837-42e5-a61b-7b956beb7edb",
   "metadata": {},
   "outputs": [],
   "source": []
  },
  {
   "cell_type": "code",
   "execution_count": null,
   "id": "ff5d2ea5-5574-41d0-bfc1-81f507a678d7",
   "metadata": {},
   "outputs": [],
   "source": []
  },
  {
   "cell_type": "code",
   "execution_count": null,
   "id": "dfe1c162-845f-4bbb-8d53-25abf99d9482",
   "metadata": {},
   "outputs": [],
   "source": []
  },
  {
   "cell_type": "code",
   "execution_count": null,
   "id": "d19cabc2-5e9d-4ee5-86c3-1902497972e2",
   "metadata": {},
   "outputs": [],
   "source": []
  },
  {
   "cell_type": "code",
   "execution_count": 4,
   "id": "9ec325ff-3ed6-483f-91d0-1d75ec8d7414",
   "metadata": {},
   "outputs": [
    {
     "name": "stderr",
     "output_type": "stream",
     "text": [
      "100%|###########################################################################################| 489/489 [00:00<00:00, 25981.61it/s]\n"
     ]
    },
    {
     "data": {
      "text/html": [
       "\n",
       "        <iframe\n",
       "            width=\"100%\"\n",
       "            height=\"750\"\n",
       "            src=\"./results_tmap/CHEMBL2835_Ki_train.html\"\n",
       "            frameborder=\"0\"\n",
       "            allowfullscreen\n",
       "            \n",
       "        ></iframe>\n",
       "        "
      ],
      "text/plain": [
       "<IPython.lib.display.IFrame at 0x7f6c1c215d00>"
      ]
     },
     "metadata": {},
     "output_type": "display_data"
    },
    {
     "data": {
      "text/html": [
       "<a href='./results_tmap/CHEMBL2835_Ki_train.html' target='_blank'>./results_tmap/CHEMBL2835_Ki_train.html</a><br>"
      ],
      "text/plain": [
       "/home/shenwanxiang/Research/bidd-clsar/experiment/01_Parameter_studies/04_embedding_space_hssms/pick_one_deep_analysis/training_set/results_tmap/CHEMBL2835_Ki_train.html"
      ]
     },
     "metadata": {},
     "output_type": "display_data"
    }
   ],
   "source": [
    "df = df_train.reset_index(drop=True)\n",
    "smiles_list = df.smiles.to_list()\n",
    "\n",
    "mols = [Chem.MolFromSmiles(s) for s in smiles_list]\n",
    "ECFP4_fps = [AllChem.GetMorganFingerprintAsBitVect(x,2,dim) for x in tqdm(mols, ascii=True)]\n",
    "ecfps = [tmap.VectorUchar(list(fp)) for fp in ECFP4_fps]\n",
    "enc = tmap.Minhash(dim, seed = seed)\n",
    "lf = tmap.LSHForest(dim)\n",
    "lf.batch_add(enc.batch_from_binary_array(ecfps))\n",
    "lf.index()\n",
    "\n",
    "\n",
    "\n",
    "x, y, s, t, gp = tmap.layout_from_lsh_forest(lf, config = cfg)\n",
    "\n",
    "c1 = df['pChEMBL Value'].round(2)\n",
    "c2 = df['cliff_mol']\n",
    "\n",
    "c = [c1, c2] #具体的属性数据\n",
    "\n",
    "series_title = ['pChEMBL',  'cliff_mol'] ##具体的属性数据名称\n",
    "\n",
    "categorical = [False, True]\n",
    "\n",
    "cmap = ['jet_r', 'Set1']\n",
    "\n",
    "min_legend_label= [float(c1.min()), None,]\n",
    "max_legend_label= [float(c1.max()), None,]\n",
    "\n",
    "labels = (df['smiles'] + \"__\" + df['chembl_id'] + ': ' + c1.astype(str)).tolist() #显示smiles， 以及图片中的标签\n",
    "\n",
    "point_scale = 10\n",
    "\n",
    "legend_labels = [None, None]\n",
    "#========================================================\n",
    "\n",
    "faerun = Faerun(view=\"front\", clear_color='#111111',coords=False) #'#ffffff'\n",
    "faerun.add_scatter(dataset_name, { \"x\": x, \"y\": y, \n",
    "                              \"c\": c, \"labels\": labels},\n",
    "                   legend_labels = legend_labels,\n",
    "                   categorical = categorical,\n",
    "                   max_legend_label = max_legend_label,\n",
    "                   min_legend_label = min_legend_label,\n",
    "                   point_scale=point_scale,\n",
    "                   colormap = cmap,\n",
    "                   has_legend=True,\n",
    "                   series_title = series_title,\n",
    "                   shader = 'smoothCircle') #\"sphere\", #\n",
    "\n",
    "faerun.add_tree(dataset_name + \"_tree\", {\"from\": s, \"to\": t}, \n",
    "                point_helper=dataset_name,  color='#666666', ) #colors when no value\n",
    "\n",
    "# Choose the \"smiles\" template to display structure on hover\n",
    "faerun.plot(dataset_name+'_train', path = data_save_folder, template=\"smiles\", notebook_height=750)"
   ]
  },
  {
   "cell_type": "code",
   "execution_count": 5,
   "id": "47f086b1-7377-48dc-9835-41b4a7503a40",
   "metadata": {},
   "outputs": [
    {
     "data": {
      "text/plain": [
       "['./results_tmap/chemical_space_edges_train.jb']"
      ]
     },
     "execution_count": 5,
     "metadata": {},
     "output_type": "execute_result"
    }
   ],
   "source": [
    "data = (list(s), list(t))\n",
    "from joblib import dump, load\n",
    "dump(data, './results_tmap/chemical_space_edges_train.jb')"
   ]
  },
  {
   "cell_type": "code",
   "execution_count": 6,
   "id": "68c4e655-4307-431a-97ba-ba8327eb92d6",
   "metadata": {},
   "outputs": [],
   "source": [
    "dfg = pd.DataFrame([x, y]).T\n",
    "dfg.columns = ['x', 'y']\n",
    "dfg.index = df.index\n",
    "dfg['pChEMBL'] = df['pChEMBL Value']\n",
    "dfg['smiles'] = df['smiles']\n",
    "dfg['chembl_id'] = df['chembl_id']\n",
    "\n",
    "v=dfg['pChEMBL'].values\n",
    "\n",
    "vmin = v.min()+0.2\n",
    "vmax = v.max()-0.2 \n",
    "\n",
    "norm = mpl.colors.Normalize(vmin=vmin, vmax=vmax, clip=False)\n",
    "mapper = mpl.cm.ScalarMappable(norm=norm, cmap=mpl.cm.jet_r)\n",
    "node_color=[mpl.colors.to_hex(mapper.to_rgba(i)) for i in v]\n",
    "\n",
    "\n",
    "dfg['node_color'] = node_color\n",
    "dfg['edgecolor'] = 'k'\n",
    "dfg['linewidths'] = 0\n",
    "dfg['node_size'] = 200\n",
    "dfg['label'] = 'data'\n",
    "dfg['alpha'] = 1\n",
    "dfg['node_shape'] = 'o'\n",
    "\n",
    "dfg.to_csv('./results_tmap/chemical_space_train.csv')"
   ]
  },
  {
   "cell_type": "code",
   "execution_count": null,
   "id": "b9a0503b-e173-4c07-9a1f-9b5aa8448928",
   "metadata": {},
   "outputs": [],
   "source": []
  },
  {
   "cell_type": "code",
   "execution_count": null,
   "id": "c881d2f1-9737-43fc-b490-1a7fa67f8d65",
   "metadata": {},
   "outputs": [],
   "source": []
  },
  {
   "cell_type": "code",
   "execution_count": null,
   "id": "408e4cbb-c30b-4aae-bf50-e61d4af1afc2",
   "metadata": {},
   "outputs": [],
   "source": []
  },
  {
   "cell_type": "code",
   "execution_count": null,
   "id": "e25ae573-d50b-4bbc-9a67-53bd13a4d27c",
   "metadata": {},
   "outputs": [],
   "source": []
  },
  {
   "cell_type": "code",
   "execution_count": null,
   "id": "0c739567-a76d-46d3-b069-afe2200a3d23",
   "metadata": {},
   "outputs": [],
   "source": []
  }
 ],
 "metadata": {
  "kernelspec": {
   "display_name": "Python 3 (ipykernel)",
   "language": "python",
   "name": "python3"
  },
  "language_info": {
   "codemirror_mode": {
    "name": "ipython",
    "version": 3
   },
   "file_extension": ".py",
   "mimetype": "text/x-python",
   "name": "python",
   "nbconvert_exporter": "python",
   "pygments_lexer": "ipython3",
   "version": "3.8.19"
  }
 },
 "nbformat": 4,
 "nbformat_minor": 5
}
