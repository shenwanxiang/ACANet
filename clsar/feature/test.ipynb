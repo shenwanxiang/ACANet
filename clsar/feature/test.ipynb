{
 "cells": [
  {
   "cell_type": "code",
   "execution_count": 1,
   "id": "a26895d6",
   "metadata": {},
   "outputs": [
    {
     "name": "stderr",
     "output_type": "stream",
     "text": [
      "RDKit WARNING: [19:10:55] Enabling RDKit 2019.09.2 jupyter extensions\n"
     ]
    }
   ],
   "source": [
    "from featurizer import mol_to_graph_data_obj_onehot, mol_to_graph_data_obj_custom\n",
    "from featurizer import mol_to_graph_data_obj_pseudo, mol_to_graph_data_obj_simple"
   ]
  },
  {
   "cell_type": "code",
   "execution_count": 2,
   "id": "69fe5b3e",
   "metadata": {},
   "outputs": [],
   "source": [
    "from rdkit import Chem"
   ]
  },
  {
   "cell_type": "code",
   "execution_count": 3,
   "id": "07f5c523",
   "metadata": {},
   "outputs": [],
   "source": [
    "mol = Chem.MolFromSmiles('CCCCC1=CC=CC(CC(=O)[C@H](C)S)=C1Cl')"
   ]
  },
  {
   "cell_type": "code",
   "execution_count": 4,
   "id": "598a1dd4",
   "metadata": {},
   "outputs": [
    {
     "data": {
      "text/plain": [
       "Data(edge_attr=[34, 7], edge_index=[2, 34], x=[17, 78])"
      ]
     },
     "execution_count": 4,
     "metadata": {},
     "output_type": "execute_result"
    }
   ],
   "source": [
    "mol_to_graph_data_obj_onehot(mol)"
   ]
  },
  {
   "cell_type": "code",
   "execution_count": 5,
   "id": "2cfcc589",
   "metadata": {},
   "outputs": [
    {
     "data": {
      "text/plain": [
       "Data(edge_attr=[34, 7], edge_index=[2, 34], x=[17, 115])"
      ]
     },
     "execution_count": 5,
     "metadata": {},
     "output_type": "execute_result"
    }
   ],
   "source": [
    "mol_to_graph_data_obj_custom(mol, scale=True)"
   ]
  },
  {
   "cell_type": "code",
   "execution_count": 6,
   "id": "13c45702",
   "metadata": {},
   "outputs": [
    {
     "data": {
      "text/plain": [
       "Data(edge_attr=[34, 7], edge_index=[2, 34], x=[17, 115])"
      ]
     },
     "execution_count": 6,
     "metadata": {},
     "output_type": "execute_result"
    }
   ],
   "source": [
    "mol_to_graph_data_obj_pseudo(mol, dim=115)"
   ]
  },
  {
   "cell_type": "code",
   "execution_count": 7,
   "id": "3659a409",
   "metadata": {},
   "outputs": [
    {
     "data": {
      "text/plain": [
       "Data(edge_attr=[34, 2], edge_index=[2, 34], x=[17, 2])"
      ]
     },
     "execution_count": 7,
     "metadata": {},
     "output_type": "execute_result"
    }
   ],
   "source": [
    "mol_to_graph_data_obj_simple(mol)"
   ]
  },
  {
   "cell_type": "code",
   "execution_count": null,
   "id": "806caccc",
   "metadata": {},
   "outputs": [],
   "source": []
  },
  {
   "cell_type": "code",
   "execution_count": 8,
   "id": "1c2c8870",
   "metadata": {},
   "outputs": [
    {
     "data": {
      "text/plain": [
       "tensor([[-0.0487,  0.0679,  0.0031,  ...,  0.0083, -0.0383,  0.0161],\n",
       "        [-0.0487,  0.0679,  0.0031,  ...,  0.0083, -0.0383,  0.0161],\n",
       "        [-0.0487,  0.0679,  0.0031,  ...,  0.0083, -0.0383,  0.0161],\n",
       "        ...,\n",
       "        [-0.0178,  0.0687,  0.0724,  ...,  0.0170, -0.0053,  0.0731],\n",
       "        [-0.0487,  0.0679,  0.0031,  ...,  0.0083, -0.0383,  0.0161],\n",
       "        [ 0.0389, -0.0320,  0.0052,  ...,  0.0053,  0.0141, -0.0682]],\n",
       "       dtype=torch.float64)"
      ]
     },
     "execution_count": 8,
     "metadata": {},
     "output_type": "execute_result"
    }
   ],
   "source": [
    "mol_to_graph_data_obj_pseudo(mol, dim=115).x"
   ]
  },
  {
   "cell_type": "code",
   "execution_count": 9,
   "id": "9c8d04fe",
   "metadata": {},
   "outputs": [
    {
     "data": {
      "text/plain": [
       "tensor([[ 0.0000e+00,  0.0000e+00,  1.0000e+00,  ...,  4.6873e-01,\n",
       "          7.8236e-01,  9.1619e-01],\n",
       "        [ 0.0000e+00,  0.0000e+00,  1.0000e+00,  ...,  4.6873e-01,\n",
       "          7.8236e-01,  9.1619e-01],\n",
       "        [ 0.0000e+00,  0.0000e+00,  1.0000e+00,  ...,  4.6873e-01,\n",
       "          7.8236e-01,  9.1619e-01],\n",
       "        ...,\n",
       "        [ 0.0000e+00,  0.0000e+00,  0.0000e+00,  ...,  3.0615e-01,\n",
       "          4.8889e-01,  6.6881e-01],\n",
       "        [ 0.0000e+00,  0.0000e+00,  1.0000e+00,  ...,  4.6873e-01,\n",
       "          7.8236e-01,  9.1619e-01],\n",
       "        [ 0.0000e+00,  0.0000e+00,  0.0000e+00,  ..., -1.9949e-04,\n",
       "          6.6280e-01,  7.8404e-01]], dtype=torch.float64)"
      ]
     },
     "execution_count": 9,
     "metadata": {},
     "output_type": "execute_result"
    }
   ],
   "source": [
    "mol_to_graph_data_obj_custom(mol, scale=True).x"
   ]
  },
  {
   "cell_type": "code",
   "execution_count": null,
   "id": "817b05c9",
   "metadata": {},
   "outputs": [],
   "source": []
  }
 ],
 "metadata": {
  "kernelspec": {
   "display_name": "Python 3",
   "language": "python",
   "name": "python3"
  },
  "language_info": {
   "codemirror_mode": {
    "name": "ipython",
    "version": 3
   },
   "file_extension": ".py",
   "mimetype": "text/x-python",
   "name": "python",
   "nbconvert_exporter": "python",
   "pygments_lexer": "ipython3",
   "version": "3.6.10"
  }
 },
 "nbformat": 4,
 "nbformat_minor": 5
}
