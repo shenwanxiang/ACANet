{
 "cells": [
  {
   "cell_type": "code",
   "execution_count": 1,
   "id": "6f201db6-8941-41b0-a906-0d73acc1bed1",
   "metadata": {},
   "outputs": [],
   "source": [
    "from torch_geometric.nn.models import AttentiveFP\n",
    "from torch_geometric.datasets import MoleculeNet\n",
    "from torch_geometric.loader import DataLoader\n",
    "from rdkit import Chem\n",
    "import torch.nn.functional as F\n",
    "import torch\n",
    "import pandas as pd \n",
    "from math import sqrt\n",
    "import matplotlib.pyplot as plt\n",
    "from tqdm import tqdm\n",
    "import numpy as np\n",
    "import sys\n",
    "sys.path.insert(0, '/home/shenwanxiang/Research/bidd-clsar/')"
   ]
  },
  {
   "cell_type": "code",
   "execution_count": 2,
   "id": "466f9073-7a71-4298-9856-a9f6d5341c69",
   "metadata": {},
   "outputs": [
    {
     "name": "stdout",
     "output_type": "stream",
     "text": [
      "1\n"
     ]
    }
   ],
   "source": [
    "gpuid = 1\n",
    "torch.cuda.set_device(gpuid)\n",
    "print(torch.cuda.current_device())"
   ]
  },
  {
   "cell_type": "code",
   "execution_count": 3,
   "id": "49971289-a82d-4ae6-be61-0d3befe1da41",
   "metadata": {},
   "outputs": [],
   "source": [
    "from clsar2.dataset import LSSNS, HSSMS  # dataset\n",
    "from clsar2.feature import GenNodeEdgeFeatures115, GenNodeEdgeFeatures39  # feature\n",
    "from clsar2.model.model import ACANet_GCN, ACANet_GIN, ACANet_GAT, ACANet_PNA, get_deg  # model\n",
    "from clsar2.model.pooling import SubstructurePool\n",
    "from clsar2.model.loss import ACALoss\n",
    "from clsar2.model.saver import SaveBestModel"
   ]
  },
  {
   "cell_type": "code",
   "execution_count": 4,
   "id": "8cc7590e-4630-4aa4-b072-667b5eb5f444",
   "metadata": {},
   "outputs": [],
   "source": [
    "from torch_geometric.nn import global_mean_pool, global_max_pool, global_add_pool, GlobalAttention"
   ]
  },
  {
   "cell_type": "code",
   "execution_count": 5,
   "id": "aa3124d0-28da-4ebf-ba21-77cfa712e93e",
   "metadata": {},
   "outputs": [],
   "source": [
    "lr = 1e-4\n",
    "epochs = 200\n",
    "batch_size = 32\n",
    "\n",
    "Dataset = HSSMS\n",
    "\n",
    "fp_dim = 1024\n",
    "\n",
    "pre_transform = GenNodeEdgeFeatures39(nBits = fp_dim, radius = 2) #nBits = fp_dim, radius = 2\n",
    "dataset_name = 'chembl4203_ki' #chembl237_ec50\n",
    "\n",
    "edge_dim = pre_transform.edge_dim\n",
    "in_channels = pre_transform.in_channels"
   ]
  },
  {
   "cell_type": "code",
   "execution_count": 6,
   "id": "5488573e-54b8-4e46-a026-4d933930100f",
   "metadata": {},
   "outputs": [],
   "source": [
    "results = [] \n",
    "\n",
    "path = './tmpignore/%s_%s_%s' % (pre_transform.in_channels, pre_transform.fp_type, fp_dim)\n",
    "dataset = Dataset(path, name=dataset_name, pre_transform=pre_transform)\n",
    "\n",
    "split = pd.Series(dataset.data.split)\n",
    "train_idx = split[split == 'train'].index.tolist()\n",
    "test_idx = split[split == 'test'].index.tolist()\n",
    "\n",
    "train_dataset = dataset.index_select(train_idx)\n",
    "test_dataset = dataset.index_select(test_idx)\n",
    "train_loader = DataLoader(train_dataset, batch_size=batch_size, shuffle=True)\n",
    "test_loader = DataLoader(test_dataset, batch_size=batch_size)\n",
    "\n",
    "\n",
    "train_y = dataset.data.y[train_idx]\n",
    "test_y = dataset.data.y[test_idx]"
   ]
  },
  {
   "cell_type": "code",
   "execution_count": 7,
   "id": "e53d9da5-2386-49a2-89d7-a19623b8e19f",
   "metadata": {},
   "outputs": [],
   "source": [
    "deg = get_deg(train_dataset)\n",
    "device = torch.device('cuda' if torch.cuda.is_available() else 'cpu')"
   ]
  },
  {
   "cell_type": "code",
   "execution_count": 8,
   "id": "ed218506-98b8-42fc-9912-d5db03632e49",
   "metadata": {},
   "outputs": [
    {
     "name": "stderr",
     "output_type": "stream",
     "text": [
      "/home/shenwanxiang/anaconda3/envs/cuda11.3/lib/python3.9/site-packages/torch/nn/_reduction.py:42: UserWarning: size_average and reduce args will be deprecated, please use reduction='mean' instead.\n",
      "  warnings.warn(warning.format(ret))\n"
     ]
    }
   ],
   "source": [
    "pub_args = {'in_channels': in_channels, \n",
    "            'out_channels': 1, \n",
    "             'fp_dim':fp_dim, \n",
    "             'edge_dim': edge_dim, \n",
    "             'convs_layers': [64, 128, 512], \n",
    "             'dense_layers': [512, 128, 32],\n",
    "             'pooling_layer': global_mean_pool,\n",
    "             'dropout_p': 0.0, 'batch_norms': torch.nn.BatchNorm1d} # ,'batch_norms': \n",
    "\n",
    "model = ACANet_PNA(**pub_args, deg=deg, aggregators=['mean', 'min', 'max', 'sum'], \n",
    "                     scalers=['identity', 'amplification', 'attenuation']).to(device)\n",
    "\n",
    "aca_loss = ACALoss(alpha = 1., cliff_lower = 1, cliff_upper = 1, dev_mode=False)\n",
    "\n",
    "saver = SaveBestModel(data_transformer = train_dataset.smiles_to_data, \n",
    "                      save_dir = './', save_name = '%s' % dataset_name)\n",
    "\n",
    "optimizer = torch.optim.Adam(model.parameters(), lr=lr, weight_decay=10**-5) #"
   ]
  },
  {
   "cell_type": "code",
   "execution_count": null,
   "id": "d051257b-3dd5-407b-a714-e6d3df48bc7f",
   "metadata": {},
   "outputs": [],
   "source": []
  },
  {
   "cell_type": "code",
   "execution_count": null,
   "id": "8fc47450-c8d9-4e52-8657-8fe29a944bd5",
   "metadata": {},
   "outputs": [],
   "source": []
  },
  {
   "cell_type": "code",
   "execution_count": 9,
   "id": "5e4a1174-df42-4f95-aa29-e76f1c4b0008",
   "metadata": {},
   "outputs": [],
   "source": [
    "def train(train_loader):\n",
    "    total_loss = total_examples = 0\n",
    "    for data in train_loader:\n",
    "        data = data.to(device)\n",
    "        optimizer.zero_grad()\n",
    "        x, out, embed = model(data.x.float(), data.edge_index,\n",
    "                           data.edge_attr, data.batch, fp = data.fp)\n",
    "        #loss = F.mse_loss(out, data.y)\n",
    "        loss = aca_loss(data.y, out, embed)\n",
    "        loss.backward()\n",
    "        optimizer.step()\n",
    "        total_loss += float(loss) * data.num_graphs\n",
    "        total_examples += data.num_graphs\n",
    "    return sqrt(total_loss / total_examples)\n",
    "\n",
    "@torch.no_grad()\n",
    "def test(loader, model):\n",
    "    mse = []\n",
    "    for data in loader:\n",
    "        data = data.to(device)\n",
    "        x, out, embed = model.eval()(data.x.float(), data.edge_index,\n",
    "                           data.edge_attr, data.batch, fp = data.fp)\n",
    "        mse.append(F.mse_loss(out, data.y, reduction='none').cpu())\n",
    "    return float(torch.cat(mse, dim=0).mean().sqrt())\n",
    "\n",
    "\n",
    "@torch.no_grad()\n",
    "def predict(test_loader, model):\n",
    "    #embeds = []\n",
    "    preds = []\n",
    "    for data in test_loader:\n",
    "        data = data.to(device)\n",
    "        E = model.eval()\n",
    "        x, predictions, embeddings = E(data.x.float(), data.edge_index,\n",
    "                                        data.edge_attr, data.batch, data.fp)\n",
    "        #embeds.append(embeddings)\n",
    "        preds.append(predictions)\n",
    "    #embeddings = torch.concat(embeds, axis=0).cpu().numpy()\n",
    "    predictions = torch.concat(preds, axis=0)\n",
    "    return predictions"
   ]
  },
  {
   "cell_type": "code",
   "execution_count": null,
   "id": "8e55cc10-014b-4a66-a8a0-3acae09b839e",
   "metadata": {},
   "outputs": [],
   "source": []
  },
  {
   "cell_type": "code",
   "execution_count": 10,
   "id": "96406ca4-8fda-4cc9-8147-24e5ff3356f5",
   "metadata": {
    "tags": []
   },
   "outputs": [
    {
     "name": "stdout",
     "output_type": "stream",
     "text": [
      "Epoch: 001, Loss: 4.2209 Test: 6.7116\n",
      "Epoch: 002, Loss: 2.8312 Test: 6.5033\n",
      "Epoch: 003, Loss: 2.7231 Test: 5.8729\n",
      "Epoch: 004, Loss: 2.5097 Test: 4.1090\n",
      "Epoch: 005, Loss: 1.9029 Test: 1.0500\n",
      "Epoch: 006, Loss: 1.4697 Test: 1.1213\n",
      "Epoch: 007, Loss: 1.4311 Test: 1.0435\n",
      "Epoch: 008, Loss: 1.4236 Test: 1.0585\n",
      "Epoch: 009, Loss: 1.4199 Test: 1.0438\n",
      "Epoch: 010, Loss: 1.4224 Test: 1.0709\n",
      "Epoch: 011, Loss: 1.4227 Test: 1.0614\n",
      "Epoch: 012, Loss: 1.4290 Test: 1.0553\n",
      "Epoch: 013, Loss: 1.4189 Test: 1.0571\n",
      "Epoch: 014, Loss: 1.4191 Test: 1.1015\n",
      "Epoch: 015, Loss: 1.4203 Test: 1.0422\n",
      "Epoch: 016, Loss: 1.4196 Test: 1.0540\n",
      "Epoch: 017, Loss: 1.4226 Test: 1.1080\n",
      "Epoch: 018, Loss: 1.4225 Test: 1.0450\n",
      "Epoch: 019, Loss: 1.4200 Test: 1.0440\n",
      "Epoch: 020, Loss: 1.4086 Test: 1.0470\n",
      "Epoch: 021, Loss: 1.4005 Test: 1.0506\n",
      "Epoch: 022, Loss: 1.4138 Test: 1.0425\n",
      "Epoch: 023, Loss: 1.4111 Test: 1.0502\n",
      "Epoch: 024, Loss: 1.4081 Test: 1.0563\n",
      "Epoch: 025, Loss: 1.4113 Test: 1.0886\n",
      "Epoch: 026, Loss: 1.4096 Test: 1.0423\n",
      "Epoch: 027, Loss: 1.4117 Test: 1.0793\n",
      "Epoch: 028, Loss: 1.4102 Test: 1.0740\n",
      "Epoch: 029, Loss: 1.4101 Test: 1.0518\n",
      "Epoch: 030, Loss: 1.4054 Test: 1.0484\n",
      "Epoch: 031, Loss: 1.3980 Test: 1.0410\n",
      "Epoch: 032, Loss: 1.3916 Test: 1.0416\n",
      "Epoch: 033, Loss: 1.4176 Test: 1.0421\n",
      "Epoch: 034, Loss: 1.3999 Test: 1.0395\n",
      "Epoch: 035, Loss: 1.3986 Test: 1.0379\n",
      "Epoch: 036, Loss: 1.3936 Test: 1.0370\n",
      "Epoch: 037, Loss: 1.3890 Test: 1.0392\n",
      "Epoch: 038, Loss: 1.3950 Test: 1.0694\n",
      "Epoch: 039, Loss: 1.4123 Test: 1.0566\n",
      "Epoch: 040, Loss: 1.3954 Test: 1.0389\n",
      "Epoch: 041, Loss: 1.3863 Test: 1.0476\n",
      "Epoch: 042, Loss: 1.4011 Test: 1.0329\n",
      "Epoch: 043, Loss: 1.3883 Test: 1.0449\n",
      "Epoch: 044, Loss: 1.3833 Test: 1.0422\n",
      "Epoch: 045, Loss: 1.3706 Test: 1.0401\n",
      "Epoch: 046, Loss: 1.3733 Test: 1.0954\n",
      "Epoch: 047, Loss: 1.4173 Test: 1.1318\n",
      "Epoch: 048, Loss: 1.3800 Test: 1.0709\n",
      "Epoch: 049, Loss: 1.3786 Test: 1.0949\n",
      "Epoch: 050, Loss: 1.3706 Test: 1.0672\n",
      "Epoch: 051, Loss: 1.3627 Test: 1.0468\n",
      "Epoch: 052, Loss: 1.3547 Test: 1.0299\n",
      "Epoch: 053, Loss: 1.3514 Test: 1.0454\n",
      "Epoch: 054, Loss: 1.3591 Test: 1.0242\n",
      "Epoch: 055, Loss: 1.3478 Test: 1.0822\n",
      "Epoch: 056, Loss: 1.3948 Test: 1.0985\n",
      "Epoch: 057, Loss: 1.3492 Test: 1.1166\n",
      "Epoch: 058, Loss: 1.3428 Test: 1.0431\n",
      "Epoch: 059, Loss: 1.3563 Test: 1.0278\n",
      "Epoch: 060, Loss: 1.3321 Test: 1.1212\n",
      "Epoch: 061, Loss: 1.3496 Test: 1.0639\n",
      "Epoch: 062, Loss: 1.3347 Test: 1.0430\n",
      "Epoch: 063, Loss: 1.3401 Test: 1.0345\n",
      "Epoch: 064, Loss: 1.3306 Test: 1.0526\n",
      "Epoch: 065, Loss: 1.3148 Test: 1.1136\n",
      "Epoch: 066, Loss: 1.3117 Test: 1.0538\n",
      "Epoch: 067, Loss: 1.3148 Test: 1.0288\n",
      "Epoch: 068, Loss: 1.3072 Test: 1.0390\n",
      "Epoch: 069, Loss: 1.2949 Test: 1.0283\n",
      "Epoch: 070, Loss: 1.3196 Test: 1.0893\n",
      "Epoch: 071, Loss: 1.3089 Test: 1.0731\n",
      "Epoch: 072, Loss: 1.3201 Test: 1.0119\n",
      "Epoch: 073, Loss: 1.3057 Test: 1.0366\n",
      "Epoch: 074, Loss: 1.2903 Test: 1.0119\n",
      "Epoch: 075, Loss: 1.3162 Test: 1.0107\n",
      "Epoch: 076, Loss: 1.2877 Test: 1.0163\n",
      "Epoch: 077, Loss: 1.2663 Test: 1.2029\n",
      "Epoch: 078, Loss: 1.3236 Test: 1.1201\n",
      "Epoch: 079, Loss: 1.2942 Test: 1.1080\n",
      "Epoch: 080, Loss: 1.2806 Test: 1.0475\n",
      "Epoch: 081, Loss: 1.2810 Test: 1.0068\n",
      "Epoch: 082, Loss: 1.2864 Test: 1.0067\n",
      "Epoch: 083, Loss: 1.2749 Test: 1.0806\n",
      "Epoch: 084, Loss: 1.2965 Test: 1.0155\n",
      "Epoch: 085, Loss: 1.2695 Test: 1.0361\n",
      "Epoch: 086, Loss: 1.2430 Test: 1.0255\n",
      "Epoch: 087, Loss: 1.2611 Test: 1.0428\n",
      "Epoch: 088, Loss: 1.2522 Test: 0.9919\n",
      "Epoch: 089, Loss: 1.2667 Test: 0.9830\n",
      "Epoch: 090, Loss: 1.2356 Test: 0.9730\n",
      "Epoch: 091, Loss: 1.2354 Test: 1.0893\n",
      "Epoch: 092, Loss: 1.2442 Test: 0.9763\n",
      "Epoch: 093, Loss: 1.2236 Test: 0.9829\n",
      "Epoch: 094, Loss: 1.2459 Test: 1.0893\n",
      "Epoch: 095, Loss: 1.2325 Test: 1.0542\n",
      "Epoch: 096, Loss: 1.2199 Test: 1.0284\n",
      "Epoch: 097, Loss: 1.2303 Test: 1.2661\n",
      "Epoch: 098, Loss: 1.2391 Test: 0.9834\n",
      "Epoch: 099, Loss: 1.2247 Test: 1.0019\n",
      "Epoch: 100, Loss: 1.1832 Test: 0.9524\n",
      "Epoch: 101, Loss: 1.2006 Test: 0.9598\n",
      "Epoch: 102, Loss: 1.2217 Test: 0.9520\n",
      "Epoch: 103, Loss: 1.1829 Test: 0.9346\n",
      "Epoch: 104, Loss: 1.1975 Test: 0.9310\n",
      "Epoch: 105, Loss: 1.1828 Test: 0.9629\n",
      "Epoch: 106, Loss: 1.2036 Test: 1.0634\n",
      "Epoch: 107, Loss: 1.2188 Test: 0.9409\n",
      "Epoch: 108, Loss: 1.1580 Test: 1.0012\n",
      "Epoch: 109, Loss: 1.2248 Test: 0.9380\n",
      "Epoch: 110, Loss: 1.1675 Test: 0.9153\n",
      "Epoch: 111, Loss: 1.1481 Test: 0.9132\n",
      "Epoch: 112, Loss: 1.1536 Test: 1.2157\n",
      "Epoch: 113, Loss: 1.2116 Test: 0.9806\n",
      "Epoch: 114, Loss: 1.1394 Test: 0.9071\n",
      "Epoch: 115, Loss: 1.1526 Test: 0.9065\n",
      "Epoch: 116, Loss: 1.1400 Test: 1.0457\n",
      "Epoch: 117, Loss: 1.1270 Test: 0.9019\n",
      "Epoch: 118, Loss: 1.1360 Test: 0.8844\n",
      "Epoch: 119, Loss: 1.1278 Test: 0.9179\n",
      "Epoch: 120, Loss: 1.1130 Test: 0.9981\n",
      "Epoch: 121, Loss: 1.1372 Test: 1.0417\n",
      "Epoch: 122, Loss: 1.1202 Test: 0.8906\n",
      "Epoch: 123, Loss: 1.0802 Test: 0.9015\n",
      "Epoch: 124, Loss: 1.1063 Test: 0.9410\n",
      "Epoch: 125, Loss: 1.0889 Test: 0.8642\n",
      "Epoch: 126, Loss: 1.0341 Test: 1.0481\n",
      "Epoch: 127, Loss: 1.0509 Test: 1.0599\n",
      "Epoch: 128, Loss: 1.1321 Test: 0.9525\n",
      "Epoch: 129, Loss: 1.0709 Test: 0.8895\n",
      "Epoch: 130, Loss: 1.0867 Test: 0.8804\n",
      "Epoch: 131, Loss: 1.0690 Test: 0.9276\n",
      "Epoch: 132, Loss: 1.0546 Test: 1.0482\n",
      "Epoch: 133, Loss: 1.0645 Test: 0.8979\n",
      "Epoch: 134, Loss: 1.0246 Test: 0.8769\n",
      "Epoch: 135, Loss: 1.0521 Test: 0.9715\n",
      "Epoch: 136, Loss: 1.0159 Test: 0.9025\n",
      "Epoch: 137, Loss: 1.0413 Test: 0.9226\n",
      "Epoch: 138, Loss: 1.0018 Test: 0.8819\n",
      "Epoch: 139, Loss: 1.0168 Test: 0.8960\n",
      "Epoch: 140, Loss: 0.9910 Test: 0.9582\n",
      "Epoch: 141, Loss: 1.0573 Test: 0.9148\n",
      "Epoch: 142, Loss: 1.0672 Test: 0.9580\n",
      "Epoch: 143, Loss: 0.9861 Test: 0.9724\n",
      "Epoch: 144, Loss: 1.0203 Test: 1.0702\n",
      "Epoch: 145, Loss: 1.0601 Test: 0.9265\n",
      "Epoch: 146, Loss: 0.9928 Test: 1.0305\n",
      "Epoch: 147, Loss: 0.9872 Test: 0.9471\n",
      "Epoch: 148, Loss: 1.0299 Test: 1.1295\n",
      "Epoch: 149, Loss: 1.0323 Test: 0.9104\n",
      "Epoch: 150, Loss: 0.9699 Test: 0.9320\n",
      "Epoch: 151, Loss: 0.9891 Test: 1.0551\n",
      "Epoch: 152, Loss: 1.0236 Test: 0.9082\n",
      "Epoch: 153, Loss: 0.9403 Test: 0.9153\n",
      "Epoch: 154, Loss: 0.9573 Test: 0.9732\n",
      "Epoch: 155, Loss: 0.9660 Test: 0.9301\n",
      "Epoch: 156, Loss: 0.9508 Test: 0.9060\n",
      "Epoch: 157, Loss: 0.9941 Test: 0.9307\n",
      "Epoch: 158, Loss: 0.9682 Test: 1.0085\n",
      "Epoch: 159, Loss: 0.9466 Test: 0.9547\n",
      "Epoch: 160, Loss: 0.9546 Test: 0.8704\n",
      "Epoch: 161, Loss: 0.9268 Test: 0.9175\n",
      "Epoch: 162, Loss: 0.9580 Test: 0.9307\n",
      "Epoch: 163, Loss: 0.9194 Test: 0.9323\n",
      "Epoch: 164, Loss: 0.9114 Test: 0.9394\n",
      "Epoch: 165, Loss: 0.9491 Test: 1.0241\n",
      "Epoch: 166, Loss: 0.9481 Test: 0.9720\n",
      "Epoch: 167, Loss: 0.8987 Test: 1.0423\n",
      "Epoch: 168, Loss: 0.9036 Test: 0.9580\n",
      "Epoch: 169, Loss: 0.9656 Test: 0.8911\n",
      "Epoch: 170, Loss: 0.8818 Test: 0.9719\n",
      "Epoch: 171, Loss: 0.8812 Test: 1.0770\n",
      "Epoch: 172, Loss: 0.9381 Test: 0.9012\n",
      "Epoch: 173, Loss: 0.9099 Test: 0.8844\n",
      "Epoch: 174, Loss: 0.9128 Test: 0.9107\n",
      "Epoch: 175, Loss: 0.9032 Test: 1.1876\n",
      "Epoch: 176, Loss: 0.9460 Test: 0.9068\n",
      "Epoch: 177, Loss: 0.8969 Test: 0.9485\n",
      "Epoch: 178, Loss: 0.9369 Test: 0.9247\n",
      "Epoch: 179, Loss: 0.8890 Test: 0.8980\n",
      "Epoch: 180, Loss: 0.9148 Test: 0.9551\n",
      "Epoch: 181, Loss: 0.8733 Test: 0.9589\n",
      "Epoch: 182, Loss: 0.8599 Test: 1.0728\n",
      "Epoch: 183, Loss: 0.9139 Test: 1.0856\n",
      "Epoch: 184, Loss: 0.9144 Test: 0.9970\n",
      "Epoch: 185, Loss: 0.8801 Test: 1.0320\n",
      "Epoch: 186, Loss: 0.9659 Test: 0.9420\n",
      "Epoch: 187, Loss: 0.8693 Test: 1.0139\n",
      "Epoch: 188, Loss: 0.8640 Test: 0.9402\n",
      "Epoch: 189, Loss: 0.8570 Test: 0.8926\n",
      "Epoch: 190, Loss: 0.8364 Test: 0.9045\n",
      "Epoch: 191, Loss: 0.8203 Test: 0.9418\n",
      "Epoch: 192, Loss: 0.8889 Test: 0.9773\n",
      "Epoch: 193, Loss: 0.8640 Test: 0.9543\n",
      "Epoch: 194, Loss: 0.8484 Test: 0.8864\n",
      "Epoch: 195, Loss: 0.8022 Test: 1.0845\n",
      "Epoch: 196, Loss: 0.8797 Test: 0.8739\n",
      "Epoch: 197, Loss: 0.8256 Test: 0.9750\n",
      "Epoch: 198, Loss: 0.7900 Test: 0.9629\n",
      "Epoch: 199, Loss: 0.8636 Test: 0.9486\n"
     ]
    }
   ],
   "source": [
    "history = []\n",
    "for epoch in range(1, epochs):\n",
    "    train_rmse = train(train_loader)\n",
    "    #val_rmse = test(val_loader)\n",
    "    saver(train_rmse, epoch, model, optimizer)\n",
    "    \n",
    "    test_rmse = test(test_loader, model)\n",
    "    print(f'Epoch: {epoch:03d}, Loss: {train_rmse:.4f} Test: {test_rmse:.4f}')\n",
    "    history.append({'Epoch': epoch, 'train_rmse': train_rmse,'test_rmse': test_rmse})\n",
    "    \n",
    "    \n",
    "    \n",
    "df = pd.DataFrame(history)"
   ]
  },
  {
   "cell_type": "code",
   "execution_count": 11,
   "id": "056d47d9-2674-4db2-8c35-0284a2222690",
   "metadata": {},
   "outputs": [],
   "source": [
    "model.load_state_dict(saver.inMemorySave['model_state_dict'])\n",
    "\n",
    "test_pred = predict(test_loader, model)\n",
    "y_true = test_y.cpu().numpy().reshape(-1, ) \n",
    "y_pred = test_pred.cpu().numpy().reshape(-1, )    \n",
    "cliff_flag = dataset.data.cliff[test_idx].cpu().numpy()\n",
    "dfp = pd.DataFrame([y_true, y_pred, cliff_flag]).T\n",
    "dfp.columns = ['y_true', 'y_pred', 'cliff_flag']\n",
    "\n",
    "## calculate the overall rmse and cliff rmse of the test set\n",
    "overall_rmse = np.sqrt(np.mean(np.square(dfp.y_true - dfp.y_pred)))\n",
    "g = dfp.groupby('cliff_flag')\n",
    "noncliff_rmse, cliff_rmse = g.apply(lambda x:np.sqrt(np.mean(np.square(x.y_true - x.y_pred)))).to_list()"
   ]
  },
  {
   "cell_type": "code",
   "execution_count": 12,
   "id": "f6a12d4a-bfaf-4b7a-a485-8930c5556c12",
   "metadata": {},
   "outputs": [
    {
     "data": {
      "text/plain": [
       "(0.9628669333880138, 1.1710014883145148)"
      ]
     },
     "execution_count": 12,
     "metadata": {},
     "output_type": "execute_result"
    }
   ],
   "source": [
    "overall_rmse, cliff_rmse"
   ]
  },
  {
   "cell_type": "code",
   "execution_count": 13,
   "id": "5d3fd24a-022e-4dce-a034-6844409fe58c",
   "metadata": {},
   "outputs": [
    {
     "data": {
      "text/plain": [
       "0.9628669023513794"
      ]
     },
     "execution_count": 13,
     "metadata": {},
     "output_type": "execute_result"
    }
   ],
   "source": [
    "test(test_loader, model)"
   ]
  },
  {
   "cell_type": "code",
   "execution_count": 14,
   "id": "ce1405b4-2b7f-4114-ba00-20af52f91676",
   "metadata": {},
   "outputs": [
    {
     "data": {
      "text/plain": [
       "<AxesSubplot:>"
      ]
     },
     "execution_count": 14,
     "metadata": {},
     "output_type": "execute_result"
    },
    {
     "data": {
      "image/png": "[encoded data removed]",
      "text/plain": [
       "<Figure size 432x288 with 1 Axes>"
      ]
     },
     "metadata": {
      "needs_background": "light"
     },
     "output_type": "display_data"
    }
   ],
   "source": [
    "df.test_rmse.iloc[100:].plot()"
   ]
  },
  {
   "cell_type": "code",
   "execution_count": 15,
   "id": "6ebd904e-5483-403b-b25b-88739b889a8c",
   "metadata": {},
   "outputs": [
    {
     "data": {
      "text/plain": [
       "{'in_channels': 39,\n",
       " 'out_channels': 1,\n",
       " 'edge_dim': 10,\n",
       " 'fp_dim': 1024,\n",
       " 'convs_layers': [64, 128, 512],\n",
       " 'dropout_p': 0.0,\n",
       " 'batch_norms': ModuleList(\n",
       "   (0): BatchNorm1d(64, eps=1e-05, momentum=0.1, affine=True, track_running_stats=True)\n",
       "   (1): BatchNorm1d(128, eps=1e-05, momentum=0.1, affine=True, track_running_stats=True)\n",
       "   (2): BatchNorm1d(512, eps=1e-05, momentum=0.1, affine=True, track_running_stats=True)\n",
       " ),\n",
       " 'pooling_layer': <function torch_geometric.nn.glob.glob.global_mean_pool(x, batch, size: Optional[int] = None)>,\n",
       " 'dense_layers': [512, 128, 32],\n",
       " 'deg': tensor([   0, 1819, 7704, 4669,   95]),\n",
       " 'aggregators': ['mean', 'min', 'max', 'sum'],\n",
       " 'scalers': ['identity', 'amplification', 'attenuation']}"
      ]
     },
     "execution_count": 15,
     "metadata": {},
     "output_type": "execute_result"
    }
   ],
   "source": [
    "model.model_args"
   ]
  },
  {
   "cell_type": "code",
   "execution_count": null,
   "id": "bac42d4a-14bf-4c62-b2a6-3269f7e21640",
   "metadata": {},
   "outputs": [],
   "source": []
  },
  {
   "cell_type": "code",
   "execution_count": null,
   "id": "ed606b5b-7af0-465e-9d7d-6c536160092f",
   "metadata": {},
   "outputs": [],
   "source": []
  },
  {
   "cell_type": "code",
   "execution_count": 16,
   "id": "d99ec89a-5fdd-4509-9f4b-8cf31d4a5a3a",
   "metadata": {},
   "outputs": [
    {
     "data": {
      "text/plain": [
       "(0.9628669333880138, 1.1710014883145148)"
      ]
     },
     "execution_count": 16,
     "metadata": {},
     "output_type": "execute_result"
    }
   ],
   "source": [
    "overall_rmse, cliff_rmse"
   ]
  },
  {
   "cell_type": "code",
   "execution_count": 17,
   "id": "028df5f9-9120-466c-8ccf-3c5a6c283eae",
   "metadata": {},
   "outputs": [],
   "source": [
    "#\t0.759616\t0.888325"
   ]
  },
  {
   "cell_type": "code",
   "execution_count": null,
   "id": "78cd369a-fca8-434f-9649-7383012d23e4",
   "metadata": {},
   "outputs": [],
   "source": []
  }
 ],
 "metadata": {
  "kernelspec": {
   "display_name": "Python 3 (ipykernel)",
   "language": "python",
   "name": "python3"
  },
  "language_info": {
   "codemirror_mode": {
    "name": "ipython",
    "version": 3
   },
   "file_extension": ".py",
   "mimetype": "text/x-python",
   "name": "python",
   "nbconvert_exporter": "python",
   "pygments_lexer": "ipython3",
   "version": "3.9.7"
  }
 },
 "nbformat": 4,
 "nbformat_minor": 5
}
