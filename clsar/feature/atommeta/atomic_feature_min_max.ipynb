{
 "cells": [
  {
   "cell_type": "code",
   "execution_count": 156,
   "id": "e193f98f-734c-41f5-af9e-715694e6f91e",
   "metadata": {},
   "outputs": [],
   "source": [
    "import sys\n",
    "sys.path.insert(0, '/home/shenwanxiang/Research/bidd-clsar/')\n",
    "from clsar.feature.atomfeat import AtomFeaturizer\n",
    "from tqdm import tqdm"
   ]
  },
  {
   "cell_type": "code",
   "execution_count": 191,
   "id": "943ae9f4-62a8-4241-995c-27fe8660cb5a",
   "metadata": {},
   "outputs": [],
   "source": [
    "import pandas as pd\n",
    "import numpy as np\n",
    "approved_drugs = pd.read_csv('./P3-02.smiles', sep='\\t', header=None)"
   ]
  },
  {
   "cell_type": "code",
   "execution_count": 158,
   "id": "3323f38c-1f60-4bd8-a24d-8efc8b41f37c",
   "metadata": {},
   "outputs": [
    {
     "data": {
      "text/plain": [
       "(2596, 2)"
      ]
     },
     "execution_count": 158,
     "metadata": {},
     "output_type": "execute_result"
    }
   ],
   "source": [
    "approved_drugs.shape"
   ]
  },
  {
   "cell_type": "code",
   "execution_count": 227,
   "id": "54d68445-d780-4a42-a281-e8fd13719353",
   "metadata": {},
   "outputs": [
    {
     "name": "stderr",
     "output_type": "stream",
     "text": [
      " 18%|███████████████████                                                                                         | 459/2596 [00:00<00:00, 4589.68it/s]RDKit WARNING: [18:56:03] WARNING: not removing hydrogen atom without neighbors\n",
      "RDKit WARNING: [18:56:03] WARNING: not removing hydrogen atom without neighbors\n",
      "RDKit WARNING: [18:56:03] WARNING: not removing hydrogen atom without neighbors\n",
      "[18:56:03] WARNING: not removing hydrogen atom without neighbors\n",
      "[18:56:03] WARNING: not removing hydrogen atom without neighbors\n",
      "[18:56:03] WARNING: not removing hydrogen atom without neighbors\n",
      " 57%|████████████████████████████████████████████████████████████▌                                              | 1470/2596 [00:00<00:00, 4969.45it/s]RDKit WARNING: [18:56:03] WARNING: not removing hydrogen atom without neighbors\n",
      "RDKit WARNING: [18:56:03] WARNING: not removing hydrogen atom without neighbors\n",
      "RDKit WARNING: [18:56:03] WARNING: not removing hydrogen atom without neighbors\n",
      "[18:56:03] WARNING: not removing hydrogen atom without neighbors\n",
      "[18:56:03] WARNING: not removing hydrogen atom without neighbors\n",
      "[18:56:03] WARNING: not removing hydrogen atom without neighbors\n",
      " 76%|█████████████████████████████████████████████████████████████████████████████████                          | 1967/2596 [00:00<00:00, 4903.89it/s]RDKit WARNING: [18:56:03] WARNING: not removing hydrogen atom without neighbors\n",
      "RDKit WARNING: [18:56:03] WARNING: not removing hydrogen atom without neighbors\n",
      "[18:56:03] WARNING: not removing hydrogen atom without neighbors\n",
      "RDKit WARNING: [18:56:03] WARNING: not removing hydrogen atom without neighbors\n",
      "RDKit WARNING: [18:56:03] WARNING: not removing hydrogen atom without neighbors\n",
      "RDKit WARNING: [18:56:03] WARNING: not removing hydrogen atom without neighbors\n",
      "[18:56:03] WARNING: not removing hydrogen atom without neighbors\n",
      "[18:56:03] WARNING: not removing hydrogen atom without neighbors\n",
      "[18:56:03] WARNING: not removing hydrogen atom without neighbors\n",
      "[18:56:03] WARNING: not removing hydrogen atom without neighbors\n",
      " 97%|███████████████████████████████████████████████████████████████████████████████████████████████████████▍   | 2511/2596 [00:00<00:00, 5092.68it/s]RDKit ERROR: [18:56:03] Explicit valence for atom # 8 N, 4, is greater than permitted\n",
      "[18:56:03] Explicit valence for atom # 8 N, 4, is greater than permitted\n",
      "RDKit WARNING: [18:56:03] WARNING: not removing hydrogen atom without neighbors\n",
      "100%|███████████████████████████████████████████████████████████████████████████████████████████████████████████| 2596/2596 [00:00<00:00, 4986.31it/s][18:56:03] WARNING: not removing hydrogen atom without neighbors\n",
      "\n"
     ]
    }
   ],
   "source": [
    "ORGANIC = ['H', 'B', 'C', 'N', 'O', 'F', 'P', 'S', 'Cl', 'Br', 'I']\n",
    "drug_smiles_list = approved_drugs[0].to_list()\n",
    "selected_smiles_list = []\n",
    "for smiles in tqdm(drug_smiles_list):\n",
    "    try:\n",
    "        s = []\n",
    "        m = Chem.MolFromSmiles(smiles)\n",
    "        for a in m.GetAtoms():\n",
    "            s.append(a.GetSymbol())\n",
    "            \n",
    "        ## only keep organic mols\n",
    "        if (set(s) -set(ORGANIC)):\n",
    "            continue\n",
    "        else:\n",
    "            selected_smiles_list.append(smiles)\n",
    "    except:\n",
    "        pass"
   ]
  },
  {
   "cell_type": "code",
   "execution_count": 234,
   "id": "351cc033-d734-43e2-9361-80f770bc94c4",
   "metadata": {
    "tags": []
   },
   "outputs": [
    {
     "name": "stderr",
     "output_type": "stream",
     "text": [
      "100%|█████████████████████████████████████████████████████████████████████████████████████████████████████████████| 2375/2375 [00:31<00:00, 76.32it/s]\n"
     ]
    }
   ],
   "source": [
    "atom_bonds_feature = []\n",
    "atom_estate_indice = []\n",
    "atom_descriptors_conribs = []\n",
    "atom_env_feature = []\n",
    "\n",
    "for smiles in tqdm(selected_smiles_list):\n",
    "    try:\n",
    "        af = AtomFeaturizer(smiles)\n",
    "        atom_bonds_feature.append(pd.DataFrame(af.atom_bonds_feature))\n",
    "        atom_estate_indice.append(pd.DataFrame(af.atom_estate_indice))\n",
    "        atom_descriptors_conribs.append(pd.DataFrame(af.atom_descriptors_conribs))\n",
    "        atom_env_feature.append(pd.DataFrame(af.atom_env_feature))\n",
    "        \n",
    "    except:\n",
    "        pass"
   ]
  },
  {
   "cell_type": "code",
   "execution_count": 281,
   "id": "7106127a-20ab-4f9f-9828-93db4f3a5b21",
   "metadata": {},
   "outputs": [
    {
     "data": {
      "text/plain": [
       "{'num_ROTATABLE_bonds': {'maxv': 4.0, 'minv': 0.0, 'gap': 4.0},\n",
       " 'num_SINGLE_bonds': {'maxv': 6.0, 'minv': 0.0, 'gap': 6.0},\n",
       " 'num_DOUBLE_bonds': {'maxv': 2.0, 'minv': 0.0, 'gap': 2.0},\n",
       " 'num_TRIPLE_bonds': {'maxv': 1.0, 'minv': 0.0, 'gap': 1.0},\n",
       " 'num_AROMATIC_bonds': {'maxv': 3.0, 'minv': 0.0, 'gap': 3.0}}"
      ]
     },
     "execution_count": 281,
     "metadata": {},
     "output_type": "execute_result"
    }
   ],
   "source": [
    "afs = pd.concat(atom_bonds_feature)\n",
    "maxv = afs.max().to_frame(name = 'maxv').round(2)\n",
    "minv = afs.min().to_frame(name = 'minv').round(2)\n",
    "gap = (maxv.maxv-minv.minv).to_frame(name = 'gap')\n",
    "atom_bonds_feature_config = maxv.join(minv).join(gap).to_dict('index')\n",
    "atom_bonds_feature_config"
   ]
  },
  {
   "cell_type": "code",
   "execution_count": null,
   "id": "2146064b-3c36-4248-be2a-2ff09094012d",
   "metadata": {},
   "outputs": [],
   "source": []
  },
  {
   "cell_type": "code",
   "execution_count": null,
   "id": "283cdc65-9639-4859-b419-0c51cfc08bfb",
   "metadata": {},
   "outputs": [],
   "source": []
  },
  {
   "cell_type": "code",
   "execution_count": 280,
   "id": "d9507ff1-7cbf-4cde-bcdb-1d8de1a549ce",
   "metadata": {
    "tags": []
   },
   "outputs": [
    {
     "data": {
      "text/plain": [
       "{'estate_indice': {'maxv': 17.43, 'minv': -10.47, 'gap': 27.9}}"
      ]
     },
     "execution_count": 280,
     "metadata": {},
     "output_type": "execute_result"
    }
   ],
   "source": [
    "afs = pd.concat(atom_estate_indice)\n",
    "maxv = afs.max().to_frame(name = 'maxv').round(2)\n",
    "minv = afs.min().to_frame(name = 'minv').round(2)\n",
    "gap = (maxv.maxv-minv.minv).to_frame(name = 'gap')\n",
    "atom_estate_indice_config = maxv.join(minv).join(gap).to_dict('index')\n",
    "atom_estate_indice_config"
   ]
  },
  {
   "cell_type": "code",
   "execution_count": 277,
   "id": "391ae570-0999-48af-843d-3a4b7a82013f",
   "metadata": {},
   "outputs": [
    {
     "data": {
      "text/plain": [
       "{'logp_contribs': {'maxv': 0.89, 'minv': -3.0, 'gap': 3.89},\n",
       " 'mr_contribs': {'maxv': 14.02, 'minv': 0.0, 'gap': 14.02},\n",
       " 'tpsa_contribs': {'maxv': 36.5, 'minv': 0.0, 'gap': 36.5},\n",
       " 'asa_contribs': {'maxv': 23.98, 'minv': 1.37, 'gap': 22.61}}"
      ]
     },
     "execution_count": 277,
     "metadata": {},
     "output_type": "execute_result"
    }
   ],
   "source": [
    "afs = pd.concat(atom_descriptors_conribs)\n",
    "maxv = afs.max().to_frame(name = 'maxv').round(2)\n",
    "minv = afs.min().to_frame(name = 'minv').round(2)\n",
    "gap = (maxv.maxv-minv.minv).to_frame(name = 'gap')\n",
    "atom_descriptors_conribs_config = maxv.join(minv).join(gap).to_dict('index')\n",
    "atom_descriptors_conribs_config"
   ]
  },
  {
   "cell_type": "code",
   "execution_count": 278,
   "id": "f3a8fe0e-939e-443f-899d-ae9455a552de",
   "metadata": {},
   "outputs": [
    {
     "data": {
      "text/plain": [
       "{'atomic_number': {'maxv': 53.0, 'minv': 1.0, 'gap': 52.0},\n",
       " 'degree': {'maxv': 6.0, 'minv': 0.0, 'gap': 6.0},\n",
       " 'explicit_valence': {'maxv': 6.0, 'minv': 0.0, 'gap': 6.0},\n",
       " 'implicit_valence': {'maxv': 4.0, 'minv': 0.0, 'gap': 4.0},\n",
       " 'valence': {'maxv': 6.0, 'minv': 0.0, 'gap': 6.0},\n",
       " 'num_implicit_hydrogens': {'maxv': 4.0, 'minv': 0.0, 'gap': 4.0},\n",
       " 'num_explicit_hydrogens': {'maxv': 4.0, 'minv': 0.0, 'gap': 4.0},\n",
       " 'num_hydrogens': {'maxv': 4.0, 'minv': 0.0, 'gap': 4.0},\n",
       " 'formal_charge': {'maxv': 1.0, 'minv': -1.0, 'gap': 2.0},\n",
       " 'gasteiger_charge': {'maxv': 0.63, 'minv': -1.0, 'gap': 1.63}}"
      ]
     },
     "execution_count": 278,
     "metadata": {},
     "output_type": "execute_result"
    }
   ],
   "source": [
    "afs = pd.concat(atom_env_feature)\n",
    "maxv = afs.max().to_frame(name = 'maxv').round(2)\n",
    "minv = afs.min().to_frame(name = 'minv').round(2)\n",
    "gap = (maxv.maxv-minv.minv).to_frame(name = 'gap')\n",
    "atom_env_feature_config = maxv.join(minv).join(gap).to_dict('index')\n",
    "atom_env_feature_config"
   ]
  },
  {
   "cell_type": "code",
   "execution_count": 285,
   "id": "e2be5432-d177-4801-bff5-239607e07c98",
   "metadata": {},
   "outputs": [],
   "source": [
    "\n",
    "af = AtomFeaturizer(smiles)"
   ]
  },
  {
   "cell_type": "code",
   "execution_count": 299,
   "id": "a0aed793-e611-4763-9e28-75729f27b5c9",
   "metadata": {},
   "outputs": [
    {
     "data": {
      "text/plain": [
       "array([0.53840463, 0.38075488, 0.46316307, 0.5104706 , 0.4330446 ,\n",
       "       0.40891245, 0.44065059, 0.43557918, 0.51347731, 0.43557918,\n",
       "       0.44065059, 0.55988639])"
      ]
     },
     "execution_count": 299,
     "metadata": {},
     "output_type": "execute_result"
    }
   ],
   "source": []
  },
  {
   "cell_type": "code",
   "execution_count": 289,
   "id": "cdf25f38-41aa-4578-aea7-79bd50fc1af8",
   "metadata": {},
   "outputs": [],
   "source": [
    "atom_estate_indice_config = {'estate_indice': {'maxv': 17.43, 'minv': -10.47, 'gap': 27.9}}"
   ]
  },
  {
   "cell_type": "code",
   "execution_count": 312,
   "id": "a169b503-4b4e-4d77-bdea-479cf5fac2cc",
   "metadata": {},
   "outputs": [
    {
     "data": {
      "text/plain": [
       "{'atomic_number': array([16,  6,  7,  7,  6,  6,  6,  6,  7,  6,  6,  7]),\n",
       " 'degree': array([1, 3, 2, 2, 2, 3, 2, 2, 2, 2, 2, 1]),\n",
       " 'explicit_valence': array([2, 4, 2, 3, 3, 4, 3, 3, 3, 3, 3, 1]),\n",
       " 'implicit_valence': array([0, 0, 1, 0, 1, 0, 1, 1, 0, 1, 1, 2]),\n",
       " 'valence': array([2, 4, 3, 3, 4, 4, 4, 4, 3, 4, 4, 3]),\n",
       " 'num_implicit_hydrogens': array([0, 0, 1, 0, 1, 0, 1, 1, 0, 1, 1, 2]),\n",
       " 'num_explicit_hydrogens': array([0, 0, 0, 0, 0, 0, 0, 0, 0, 0, 0, 0]),\n",
       " 'num_hydrogens': array([0, 0, 1, 0, 1, 0, 1, 1, 0, 1, 1, 2]),\n",
       " 'formal_charge': array([0, 0, 0, 0, 0, 0, 0, 0, 0, 0, 0, 0]),\n",
       " 'gasteiger_charge': array([-0.03953328,  0.18380176, -0.25403686, -0.18118739,  0.05461535,\n",
       "        -0.00246809, -0.03493128,  0.02738283, -0.26469073,  0.02738283,\n",
       "        -0.03493128, -0.37489619])}"
      ]
     },
     "execution_count": 312,
     "metadata": {},
     "output_type": "execute_result"
    }
   ],
   "source": [
    "af._basic_feature()"
   ]
  },
  {
   "cell_type": "code",
   "execution_count": 305,
   "id": "b797e152-9267-4f6c-94a4-0569a1f7569e",
   "metadata": {},
   "outputs": [
    {
     "data": {
      "text/html": [
       "<div>\n",
       "<style scoped>\n",
       "    .dataframe tbody tr th:only-of-type {\n",
       "        vertical-align: middle;\n",
       "    }\n",
       "\n",
       "    .dataframe tbody tr th {\n",
       "        vertical-align: top;\n",
       "    }\n",
       "\n",
       "    .dataframe thead th {\n",
       "        text-align: right;\n",
       "    }\n",
       "</style>\n",
       "<table border=\"1\" class=\"dataframe\">\n",
       "  <thead>\n",
       "    <tr style=\"text-align: right;\">\n",
       "      <th></th>\n",
       "      <th>atomic_number</th>\n",
       "      <th>degree</th>\n",
       "      <th>explicit_valence</th>\n",
       "      <th>implicit_valence</th>\n",
       "      <th>valence</th>\n",
       "      <th>num_implicit_hydrogens</th>\n",
       "      <th>num_explicit_hydrogens</th>\n",
       "      <th>num_hydrogens</th>\n",
       "      <th>formal_charge</th>\n",
       "      <th>gasteiger_charge</th>\n",
       "    </tr>\n",
       "  </thead>\n",
       "  <tbody>\n",
       "    <tr>\n",
       "      <th>0</th>\n",
       "      <td>16</td>\n",
       "      <td>1</td>\n",
       "      <td>2</td>\n",
       "      <td>0</td>\n",
       "      <td>2</td>\n",
       "      <td>0</td>\n",
       "      <td>0</td>\n",
       "      <td>0</td>\n",
       "      <td>0</td>\n",
       "      <td>-0.039533</td>\n",
       "    </tr>\n",
       "    <tr>\n",
       "      <th>1</th>\n",
       "      <td>6</td>\n",
       "      <td>3</td>\n",
       "      <td>4</td>\n",
       "      <td>0</td>\n",
       "      <td>4</td>\n",
       "      <td>0</td>\n",
       "      <td>0</td>\n",
       "      <td>0</td>\n",
       "      <td>0</td>\n",
       "      <td>0.183802</td>\n",
       "    </tr>\n",
       "    <tr>\n",
       "      <th>2</th>\n",
       "      <td>7</td>\n",
       "      <td>2</td>\n",
       "      <td>2</td>\n",
       "      <td>1</td>\n",
       "      <td>3</td>\n",
       "      <td>1</td>\n",
       "      <td>0</td>\n",
       "      <td>1</td>\n",
       "      <td>0</td>\n",
       "      <td>-0.254037</td>\n",
       "    </tr>\n",
       "    <tr>\n",
       "      <th>3</th>\n",
       "      <td>7</td>\n",
       "      <td>2</td>\n",
       "      <td>3</td>\n",
       "      <td>0</td>\n",
       "      <td>3</td>\n",
       "      <td>0</td>\n",
       "      <td>0</td>\n",
       "      <td>0</td>\n",
       "      <td>0</td>\n",
       "      <td>-0.181187</td>\n",
       "    </tr>\n",
       "    <tr>\n",
       "      <th>4</th>\n",
       "      <td>6</td>\n",
       "      <td>2</td>\n",
       "      <td>3</td>\n",
       "      <td>1</td>\n",
       "      <td>4</td>\n",
       "      <td>1</td>\n",
       "      <td>0</td>\n",
       "      <td>1</td>\n",
       "      <td>0</td>\n",
       "      <td>0.054615</td>\n",
       "    </tr>\n",
       "    <tr>\n",
       "      <th>5</th>\n",
       "      <td>6</td>\n",
       "      <td>3</td>\n",
       "      <td>4</td>\n",
       "      <td>0</td>\n",
       "      <td>4</td>\n",
       "      <td>0</td>\n",
       "      <td>0</td>\n",
       "      <td>0</td>\n",
       "      <td>0</td>\n",
       "      <td>-0.002468</td>\n",
       "    </tr>\n",
       "    <tr>\n",
       "      <th>6</th>\n",
       "      <td>6</td>\n",
       "      <td>2</td>\n",
       "      <td>3</td>\n",
       "      <td>1</td>\n",
       "      <td>4</td>\n",
       "      <td>1</td>\n",
       "      <td>0</td>\n",
       "      <td>1</td>\n",
       "      <td>0</td>\n",
       "      <td>-0.034931</td>\n",
       "    </tr>\n",
       "    <tr>\n",
       "      <th>7</th>\n",
       "      <td>6</td>\n",
       "      <td>2</td>\n",
       "      <td>3</td>\n",
       "      <td>1</td>\n",
       "      <td>4</td>\n",
       "      <td>1</td>\n",
       "      <td>0</td>\n",
       "      <td>1</td>\n",
       "      <td>0</td>\n",
       "      <td>0.027383</td>\n",
       "    </tr>\n",
       "    <tr>\n",
       "      <th>8</th>\n",
       "      <td>7</td>\n",
       "      <td>2</td>\n",
       "      <td>3</td>\n",
       "      <td>0</td>\n",
       "      <td>3</td>\n",
       "      <td>0</td>\n",
       "      <td>0</td>\n",
       "      <td>0</td>\n",
       "      <td>0</td>\n",
       "      <td>-0.264691</td>\n",
       "    </tr>\n",
       "    <tr>\n",
       "      <th>9</th>\n",
       "      <td>6</td>\n",
       "      <td>2</td>\n",
       "      <td>3</td>\n",
       "      <td>1</td>\n",
       "      <td>4</td>\n",
       "      <td>1</td>\n",
       "      <td>0</td>\n",
       "      <td>1</td>\n",
       "      <td>0</td>\n",
       "      <td>0.027383</td>\n",
       "    </tr>\n",
       "    <tr>\n",
       "      <th>10</th>\n",
       "      <td>6</td>\n",
       "      <td>2</td>\n",
       "      <td>3</td>\n",
       "      <td>1</td>\n",
       "      <td>4</td>\n",
       "      <td>1</td>\n",
       "      <td>0</td>\n",
       "      <td>1</td>\n",
       "      <td>0</td>\n",
       "      <td>-0.034931</td>\n",
       "    </tr>\n",
       "    <tr>\n",
       "      <th>11</th>\n",
       "      <td>7</td>\n",
       "      <td>1</td>\n",
       "      <td>1</td>\n",
       "      <td>2</td>\n",
       "      <td>3</td>\n",
       "      <td>2</td>\n",
       "      <td>0</td>\n",
       "      <td>2</td>\n",
       "      <td>0</td>\n",
       "      <td>-0.374896</td>\n",
       "    </tr>\n",
       "  </tbody>\n",
       "</table>\n",
       "</div>"
      ],
      "text/plain": [
       "    atomic_number  degree  explicit_valence  implicit_valence  valence  \\\n",
       "0              16       1                 2                 0        2   \n",
       "1               6       3                 4                 0        4   \n",
       "2               7       2                 2                 1        3   \n",
       "3               7       2                 3                 0        3   \n",
       "4               6       2                 3                 1        4   \n",
       "5               6       3                 4                 0        4   \n",
       "6               6       2                 3                 1        4   \n",
       "7               6       2                 3                 1        4   \n",
       "8               7       2                 3                 0        3   \n",
       "9               6       2                 3                 1        4   \n",
       "10              6       2                 3                 1        4   \n",
       "11              7       1                 1                 2        3   \n",
       "\n",
       "    num_implicit_hydrogens  num_explicit_hydrogens  num_hydrogens  \\\n",
       "0                        0                       0              0   \n",
       "1                        0                       0              0   \n",
       "2                        1                       0              1   \n",
       "3                        0                       0              0   \n",
       "4                        1                       0              1   \n",
       "5                        0                       0              0   \n",
       "6                        1                       0              1   \n",
       "7                        1                       0              1   \n",
       "8                        0                       0              0   \n",
       "9                        1                       0              1   \n",
       "10                       1                       0              1   \n",
       "11                       2                       0              2   \n",
       "\n",
       "    formal_charge  gasteiger_charge  \n",
       "0               0         -0.039533  \n",
       "1               0          0.183802  \n",
       "2               0         -0.254037  \n",
       "3               0         -0.181187  \n",
       "4               0          0.054615  \n",
       "5               0         -0.002468  \n",
       "6               0         -0.034931  \n",
       "7               0          0.027383  \n",
       "8               0         -0.264691  \n",
       "9               0          0.027383  \n",
       "10              0         -0.034931  \n",
       "11              0         -0.374896  "
      ]
     },
     "execution_count": 305,
     "metadata": {},
     "output_type": "execute_result"
    }
   ],
   "source": [
    "pd.DataFrame(af._basic_feature())"
   ]
  },
  {
   "cell_type": "code",
   "execution_count": 308,
   "id": "fd89a818-d72b-4655-a150-941e2334cc6a",
   "metadata": {},
   "outputs": [
    {
     "data": {
      "text/html": [
       "<div>\n",
       "<style scoped>\n",
       "    .dataframe tbody tr th:only-of-type {\n",
       "        vertical-align: middle;\n",
       "    }\n",
       "\n",
       "    .dataframe tbody tr th {\n",
       "        vertical-align: top;\n",
       "    }\n",
       "\n",
       "    .dataframe thead th {\n",
       "        text-align: right;\n",
       "    }\n",
       "</style>\n",
       "<table border=\"1\" class=\"dataframe\">\n",
       "  <thead>\n",
       "    <tr style=\"text-align: right;\">\n",
       "      <th></th>\n",
       "      <th>atomic_number</th>\n",
       "      <th>degree</th>\n",
       "      <th>explicit_valence</th>\n",
       "      <th>implicit_valence</th>\n",
       "      <th>valence</th>\n",
       "      <th>num_implicit_hydrogens</th>\n",
       "      <th>num_explicit_hydrogens</th>\n",
       "      <th>num_hydrogens</th>\n",
       "      <th>formal_charge</th>\n",
       "      <th>gasteiger_charge</th>\n",
       "    </tr>\n",
       "  </thead>\n",
       "  <tbody>\n",
       "    <tr>\n",
       "      <th>maxv</th>\n",
       "      <td>53.0</td>\n",
       "      <td>6.0</td>\n",
       "      <td>6.0</td>\n",
       "      <td>4.0</td>\n",
       "      <td>6.0</td>\n",
       "      <td>4.0</td>\n",
       "      <td>4.0</td>\n",
       "      <td>4.0</td>\n",
       "      <td>1.0</td>\n",
       "      <td>0.63</td>\n",
       "    </tr>\n",
       "    <tr>\n",
       "      <th>minv</th>\n",
       "      <td>1.0</td>\n",
       "      <td>0.0</td>\n",
       "      <td>0.0</td>\n",
       "      <td>0.0</td>\n",
       "      <td>0.0</td>\n",
       "      <td>0.0</td>\n",
       "      <td>0.0</td>\n",
       "      <td>0.0</td>\n",
       "      <td>-1.0</td>\n",
       "      <td>-1.00</td>\n",
       "    </tr>\n",
       "    <tr>\n",
       "      <th>gap</th>\n",
       "      <td>52.0</td>\n",
       "      <td>6.0</td>\n",
       "      <td>6.0</td>\n",
       "      <td>4.0</td>\n",
       "      <td>6.0</td>\n",
       "      <td>4.0</td>\n",
       "      <td>4.0</td>\n",
       "      <td>4.0</td>\n",
       "      <td>2.0</td>\n",
       "      <td>1.63</td>\n",
       "    </tr>\n",
       "  </tbody>\n",
       "</table>\n",
       "</div>"
      ],
      "text/plain": [
       "      atomic_number  degree  explicit_valence  implicit_valence  valence  \\\n",
       "maxv           53.0     6.0               6.0               4.0      6.0   \n",
       "minv            1.0     0.0               0.0               0.0      0.0   \n",
       "gap            52.0     6.0               6.0               4.0      6.0   \n",
       "\n",
       "      num_implicit_hydrogens  num_explicit_hydrogens  num_hydrogens  \\\n",
       "maxv                     4.0                     4.0            4.0   \n",
       "minv                     0.0                     0.0            0.0   \n",
       "gap                      4.0                     4.0            4.0   \n",
       "\n",
       "      formal_charge  gasteiger_charge  \n",
       "maxv            1.0              0.63  \n",
       "minv           -1.0             -1.00  \n",
       "gap             2.0              1.63  "
      ]
     },
     "execution_count": 308,
     "metadata": {},
     "output_type": "execute_result"
    }
   ],
   "source": [
    "df = pd.DataFrame(atom_env_feature_config)\n",
    "df"
   ]
  },
  {
   "cell_type": "code",
   "execution_count": 310,
   "id": "f594deae-b7ec-4182-aab6-afda84a658bd",
   "metadata": {},
   "outputs": [],
   "source": [
    "res = (pd.DataFrame(af._basic_feature()) - df.loc['minv']) / df.loc['gap']"
   ]
  },
  {
   "cell_type": "code",
   "execution_count": 317,
   "id": "daf264f8-b457-4fb5-b72c-f6730474744e",
   "metadata": {},
   "outputs": [
    {
     "data": {
      "text/plain": [
       "{'num_ROTATABLE_bonds': array([0., 1., 2., 1., 1., 1., 0., 0., 0., 0., 0., 0.]),\n",
       " 'num_SINGLE_bonds': array([0, 2, 2, 1, 1, 1, 0, 0, 0, 0, 0, 1]),\n",
       " 'num_DOUBLE_bonds': array([1, 1, 0, 1, 1, 0, 0, 0, 0, 0, 0, 0]),\n",
       " 'num_TRIPLE_bonds': array([0, 0, 0, 0, 0, 0, 0, 0, 0, 0, 0, 0]),\n",
       " 'num_AROMATIC_bonds': array([0, 0, 0, 0, 0, 2, 2, 2, 2, 2, 2, 0])}"
      ]
     },
     "execution_count": 317,
     "metadata": {},
     "output_type": "execute_result"
    }
   ],
   "source": [
    "af._bonds_feature()"
   ]
  },
  {
   "cell_type": "code",
   "execution_count": null,
   "id": "bc752069-2490-4d71-a9bc-33171edecef3",
   "metadata": {},
   "outputs": [],
   "source": []
  }
 ],
 "metadata": {
  "kernelspec": {
   "display_name": "Python 3 (ipykernel)",
   "language": "python",
   "name": "python3"
  },
  "language_info": {
   "codemirror_mode": {
    "name": "ipython",
    "version": 3
   },
   "file_extension": ".py",
   "mimetype": "text/x-python",
   "name": "python",
   "nbconvert_exporter": "python",
   "pygments_lexer": "ipython3",
   "version": "3.9.7"
  }
 },
 "nbformat": 4,
 "nbformat_minor": 5
}
