{
 "cells": [
  {
   "cell_type": "code",
   "execution_count": 1,
   "id": "5141399b-6fb7-433a-9cc7-bea691c13c77",
   "metadata": {},
   "outputs": [],
   "source": [
    "import sys\n",
    "sys.path.insert(0, '/home/shenwanxiang/Research/bidd-clsar/')\n",
    "\n",
    "import os\n",
    "os.environ[\"CUDA_VISIBLE_DEVICES\"]=\"0\"\n",
    "\n",
    "from math import sqrt\n",
    "import pandas as pd\n",
    "import numpy as np\n",
    "\n",
    "import torch\n",
    "import torch.nn.functional as F\n",
    "from rdkit import Chem\n",
    "\n",
    "from torch_geometric.loader import DataLoader\n",
    "from torch_geometric.datasets import MoleculeNet\n",
    "from torch_geometric.nn.models import AttentiveFP"
   ]
  },
  {
   "cell_type": "code",
   "execution_count": null,
   "id": "efb3794f-48fb-4f5e-9eae-1b36a7bdf8bf",
   "metadata": {},
   "outputs": [],
   "source": []
  },
  {
   "cell_type": "code",
   "execution_count": 2,
   "id": "0f466612-1a89-439f-8f73-eb52ea2ffed9",
   "metadata": {},
   "outputs": [],
   "source": [
    "from clsar.dataset import LSSInhibitor # dataset\n",
    "from clsar.feature import Gen115AtomFeatures, GenAttentiveFeatures # feature\n",
    "from clsar.model import ACNet_GCN, ACNet_GIN, ACNet_GAT, ACNet_PNA # model\n",
    "from clsar.model.loss import ada_batch_all_triplet_loss, ada_batch_all_triplet_loss2"
   ]
  },
  {
   "cell_type": "code",
   "execution_count": 3,
   "id": "a2f31f3a-41c9-44ac-9eba-7b3d4bc162f2",
   "metadata": {},
   "outputs": [],
   "source": [
    "def train(model, train_loader, device, cliff_lower, cliff_upper, alpha):\n",
    "    total_examples = 0\n",
    "    total_loss =  0    \n",
    "    total_triplet_loss = 0\n",
    "    total_mae_loss = 0   \n",
    "    n_triplets = []\n",
    "    for i, data in enumerate(train_loader):\n",
    "        data = data.to(device)\n",
    "        optimizer.zero_grad()\n",
    "        predictions, embeddings = model(data.x.float(), data.edge_index, \n",
    "                                        data.edge_attr, data.batch)\n",
    "        loss_out = ada_batch_all_triplet_loss2(embeddings = embeddings,\n",
    "                                              predictions = predictions,\n",
    "                                              labels = data.y, \n",
    "                                              device = device, \n",
    "                                              cliff_lower = cliff_lower,\n",
    "                                              cliff_upper = cliff_upper,\n",
    "                                              alpha = alpha)\n",
    "        loss, triplet_loss, mae_loss, num_positive_triplets = loss_out\n",
    "\n",
    "        loss.backward()\n",
    "        optimizer.step()\n",
    "        total_loss += float(loss) * data.num_graphs\n",
    "        total_triplet_loss += float(triplet_loss) * data.num_graphs        \n",
    "        total_mae_loss += float(mae_loss) * data.num_graphs        \n",
    "        total_examples += data.num_graphs\n",
    "        n_triplets.append(int(num_positive_triplets))\n",
    "\n",
    "    train_loss = total_loss / total_examples\n",
    "    total_triplet_loss = total_triplet_loss / total_examples\n",
    "    total_mae_loss = total_mae_loss / total_examples\n",
    "    n_triplets = int(sum(n_triplets) / (i+1))\n",
    "\n",
    "    return train_loss, total_triplet_loss, total_mae_loss, n_triplets\n",
    "\n",
    "\n",
    "@torch.no_grad()\n",
    "def test(model, loader, device, cliff_lower, cliff_upper, alpha):\n",
    "    \n",
    "    total_examples = 0\n",
    "    total_loss =  0    \n",
    "    total_triplet_loss = 0\n",
    "    total_mae_loss = 0   \n",
    "    n_triplets = []\n",
    "    mse = []\n",
    "    for i, data in enumerate(loader):\n",
    "        data = data.to(device)\n",
    "        predictions, embeddings = model(data.x.float(), data.edge_index, data.edge_attr, data.batch)\n",
    "        loss_out = ada_batch_all_triplet_loss2(embeddings = embeddings,\n",
    "                                              predictions = predictions,\n",
    "                                              labels = data.y, \n",
    "                                              device = device, \n",
    "                                              cliff_lower = cliff_lower, \n",
    "                                              cliff_upper = cliff_upper,\n",
    "                                              alpha=alpha)\n",
    "        loss, triplet_loss, mae_loss, num_positive_triplets = loss_out\n",
    "        \n",
    "        total_loss += float(loss) * data.num_graphs\n",
    "        total_triplet_loss += float(triplet_loss) * data.num_graphs        \n",
    "        total_mae_loss += float(mae_loss) * data.num_graphs        \n",
    "        total_examples += data.num_graphs\n",
    "        n_triplets.append(int(num_positive_triplets))\n",
    "        mse.append(F.mse_loss(predictions, data.y, reduction='none').cpu())\n",
    "        \n",
    "    total_loss = total_loss / total_examples\n",
    "    total_triplet_loss = total_triplet_loss / total_examples\n",
    "    total_mae_loss = total_mae_loss / total_examples\n",
    "    n_triplets = int(sum(n_triplets) / (i+1))\n",
    "    rmse = float(torch.cat(mse, dim=0).mean().sqrt()) \n",
    "    \n",
    "    return total_loss, total_triplet_loss, total_mae_loss, rmse, n_triplets"
   ]
  },
  {
   "cell_type": "code",
   "execution_count": 4,
   "id": "3b26db09-43fd-415c-89d2-82f8927736e9",
   "metadata": {},
   "outputs": [
    {
     "data": {
      "text/plain": [
       "{'mglur2': ['mGluR2', 'mGluR2.csv', 'mGluR2', 7, 12],\n",
       " 'usp7': ['USP7', 'USP7.csv', 'USP7', 7, 12],\n",
       " 'mth1': ['MTH1', 'MTH1.csv', 'MTH1', 7, 12],\n",
       " 'rip2': ['RIP2', 'RIP2.csv', 'RIP2', 7, 12],\n",
       " 'pkci': ['PKCi', 'PKC-i.csv', 'PKC-i', 3, 8],\n",
       " 'phgdh': ['PHGDH', 'PHGDH.csv', 'PHGDH', 7, 12],\n",
       " 'rorg': ['RORg', 'RORg.csv', 'RORg', 7, 12],\n",
       " 'ido1': ['IDO1', 'IDO1.csv', 'IDO1', 7, 12],\n",
       " 'klk5': ['KLK5', 'KLK5.csv', 'KLK5', 7, 12],\n",
       " 'notum': ['Notum', 'Notum.csv', 'Notum', 7, 12],\n",
       " 'eaat3': ['EAAT3', 'EAAT3.csv', 'EAAT3', 3, 8]}"
      ]
     },
     "execution_count": 4,
     "metadata": {},
     "output_type": "execute_result"
    }
   ],
   "source": [
    "LSSInhibitor.names"
   ]
  },
  {
   "cell_type": "code",
   "execution_count": 5,
   "id": "9d956860-ed05-40fd-80b5-f77a4e4f200f",
   "metadata": {},
   "outputs": [
    {
     "data": {
      "text/plain": [
       "array([0.3, 0.5, 0.7, 0.9, 1.1, 1.3, 1.5, 1.7, 1.9, 2.1, 2.3, 2.5, 2.7,\n",
       "       2.9])"
      ]
     },
     "execution_count": 5,
     "metadata": {},
     "output_type": "execute_result"
    }
   ],
   "source": [
    "np.arange(0.3, 3.0, 0.2)"
   ]
  },
  {
   "cell_type": "code",
   "execution_count": null,
   "id": "18ab13f4-6054-4a5c-ac3d-0a44887379a1",
   "metadata": {
    "tags": []
   },
   "outputs": [],
   "source": [
    "dataset_name = 'klk5'\n",
    "Dataset =  LSSInhibitor # MoleculeNet\n",
    "\n",
    "epochs = 1000\n",
    "batch_size = 128\n",
    "\n",
    "## data HPs\n",
    "\n",
    "cliff_uppers = np.arange(0.3, 3.0, 0.2)\n",
    "cliff_lower = 0.2\n",
    "\n",
    "alpha = 1.0\n",
    "n_fold = 5\n",
    "\n",
    "## model HPs\n",
    "pub_args = {'in_channels':115, 'hidden_channels':64, 'out_channels':1, \n",
    "            'edge_dim':10, 'num_layers':10, 'dropout_p':0.1, 'batch_norms':None}\n",
    "    \n",
    "dataset = Dataset(root = './tmpignore/', name=dataset_name, pre_transform=Gen115AtomFeatures())\n",
    "y = dataset.data.y.cpu().numpy()\n",
    "idx = np.argsort(y,axis=0).reshape(-1,) #sort data by ther value\n",
    "\n",
    "allres = []\n",
    "for cliff_upper in cliff_uppers:\n",
    "    # n-fold cross-validation\n",
    "    for i in range(n_fold):\n",
    "        ts = pd.Series(idx)\n",
    "        ts_idx = ts.iloc[i::n_fold].tolist()\n",
    "        tr_idx = ts[~ts.isin(ts_idx)].tolist()\n",
    "        print(len(tr_idx), len(ts_idx))\n",
    "\n",
    "        train_dataset = dataset.index_select(tr_idx)\n",
    "        val_dataset = dataset.index_select(ts_idx)\n",
    "\n",
    "        train_loader = DataLoader(train_dataset, batch_size=batch_size, shuffle=True)\n",
    "        val_loader = DataLoader(val_dataset, batch_size=batch_size)\n",
    "\n",
    "        ## model HPs\n",
    "        device = torch.device('cuda' if torch.cuda.is_available() else 'cpu')\n",
    "        model = ACNet_GAT(**pub_args, heads = 3, dropout= 0.1).to(device)\n",
    "        optimizer = torch.optim.Adam(model.parameters(), lr=10**-3.5,\n",
    "                                     weight_decay=10**-5)\n",
    "        history = []\n",
    "        for epoch in range(1, epochs):\n",
    "            train_loss, triplet_loss, mae_loss, n_triplets = train(model, train_loader, device, cliff_lower, cliff_upper, alpha)\n",
    "            val_out = test(model, val_loader, device, cliff_lower, cliff_upper, alpha)\n",
    "\n",
    "            val_loss, val_triplet_loss, val_mae_loss, val_rmse, val_n_triplets = val_out\n",
    "\n",
    "            print(f'Epoch: {epoch:03d}, Loss: {train_loss:.4f} TripLoss: {triplet_loss:.4f} MAELoss: {mae_loss:.4f} '\n",
    "                  f'Triplets: {n_triplets:03d}; Val: {val_rmse:.4f}')\n",
    "\n",
    "            history.append({'Epoch':epoch, 'train_loss':train_loss, 'train_triplet_loss':triplet_loss,\n",
    "                            'train_mae_loss':mae_loss, 'train_triplets': n_triplets,\n",
    "                            'val_loss':val_loss, 'val_triplet_loss':val_triplet_loss,\n",
    "                            'val_mae_loss':val_mae_loss, 'val_n_triplets':val_n_triplets, \n",
    "                            'val_rmse':val_rmse})\n",
    "\n",
    "        df1 = pd.DataFrame(history)\n",
    "        df1['fold'] = 'fold_%s' % (i+1)\n",
    "        df1['cliff_lower'] = [cliff_lower for i in range(len(df1))]\n",
    "        df1['cliff_upper'] = [cliff_upper for i in range(len(df1))]\n",
    "        df1['alpha'] = [alpha for i in range(len(df1))]\n",
    "        df1['batch_size'] = [batch_size for i in range(len(df1))]\n",
    "        df1['model_paras'] = [pub_args for i in range(len(df1))]\n",
    "        df1['dataset'] = dataset_name\n",
    "        \n",
    "        allres.append(df1)"
   ]
  },
  {
   "cell_type": "code",
   "execution_count": null,
   "id": "284f8d6c-08ba-4302-bfe0-b15793b61e48",
   "metadata": {},
   "outputs": [],
   "source": []
  },
  {
   "cell_type": "code",
   "execution_count": null,
   "id": "aadfda3c-6809-4fe4-8c4c-38ebb9f9b517",
   "metadata": {
    "tags": []
   },
   "outputs": [],
   "source": [
    "df = pd.concat(allres)"
   ]
  },
  {
   "cell_type": "code",
   "execution_count": null,
   "id": "1acd3fbc-b0f7-4fdc-9760-ab7d57624613",
   "metadata": {},
   "outputs": [],
   "source": [
    "import pandas as pd\n",
    "import seaborn as sns\n",
    "import matplotlib.pyplot as plt\n",
    "import os\n",
    "\n",
    "sns.set(style='white',font='sans-serif',font_scale=1.5)"
   ]
  },
  {
   "cell_type": "code",
   "execution_count": null,
   "id": "3dee6426-7fc2-431a-bdd4-f0dbffdda710",
   "metadata": {},
   "outputs": [],
   "source": [
    "res = df.groupby(['cliff_upper', 'fold']).val_rmse.min().unstack()"
   ]
  },
  {
   "cell_type": "code",
   "execution_count": null,
   "id": "77cbb7b1-e35c-4de1-a720-ce9d798dd827",
   "metadata": {},
   "outputs": [],
   "source": [
    "sns.heatmap(res, cmap = 'rainbow_r')"
   ]
  },
  {
   "cell_type": "code",
   "execution_count": null,
   "id": "95232cea-9773-4640-a429-ed4adac6503e",
   "metadata": {},
   "outputs": [],
   "source": [
    "df.groupby(['cliff_upper', 'fold']).val_n_triplets.max().unstack().T.mean().plot()"
   ]
  },
  {
   "cell_type": "code",
   "execution_count": null,
   "id": "a3b0bae8-d276-4ac8-a2a5-cd5ced94eb08",
   "metadata": {},
   "outputs": [],
   "source": [
    "df.groupby(['cliff_upper', 'fold']).val_rmse.min().unstack().T.mean().plot()"
   ]
  },
  {
   "cell_type": "code",
   "execution_count": null,
   "id": "19fc34fe-f4e0-4b6d-ac70-de3d3f4f8f47",
   "metadata": {},
   "outputs": [],
   "source": [
    "plt.scatter(df.groupby(['cliff_upper', 'fold']).val_rmse.min().unstack().T.mean(), \n",
    "            df.groupby(['cliff_upper', 'fold']).val_n_triplets.max().unstack().T.mean() )"
   ]
  },
  {
   "cell_type": "code",
   "execution_count": null,
   "id": "c1498d74-cb62-4ba9-9c76-d7ed006ffa85",
   "metadata": {},
   "outputs": [],
   "source": []
  },
  {
   "cell_type": "code",
   "execution_count": null,
   "id": "3ea7b912-4696-4f7e-9574-2fa33f6ebe89",
   "metadata": {},
   "outputs": [],
   "source": [
    "dfg = df.groupby(['cliff_upper', 'Epoch']).mean()\n",
    "\n",
    "dfp1 = dfg['val_rmse'].unstack().T\n",
    "dfp2 = dfg['val_n_triplets'].unstack().T\n",
    "\n",
    "dfp1.columns = dfp1.columns.map(lambda x:'%.2f' % x)\n",
    "dfp2.columns = dfp2.columns.map(lambda x:'%.2f' % x)\n",
    "\n",
    "# dfp1.columns.name = 'cliff'\n",
    "# dfp2.columns.name = 'cliff'\n",
    "\n",
    "\n",
    "# dfp1 = dfp1[['0.50', '1.00', '1.50', '2.00', '2.50']]\n",
    "# dfp2 = dfp2[['0.50', '1.00', '1.50', '2.00', '2.50']]\n",
    "\n",
    "\n",
    "color = sns.color_palette(\"rainbow_r\", len(dfp1.columns)) #PiYG\n",
    "fig, axes = plt.subplots(nrows=1, ncols=2, figsize=(18,6.5), sharex=True, sharey=False, )\n",
    "ax1, ax2 = axes        \n",
    "\n",
    "dfp2.rolling(8).mean().plot(ax=ax2, lw = 3, color = color)\n",
    "\n",
    "dfp1.rolling(20).mean().plot(ax=ax1, lw = 3, color = color)\n",
    "\n",
    "ax1.tick_params(bottom='on', left='off',  labelleft='on', labelbottom='on', pad=-.6,)\n",
    "ax2.tick_params(bottom='on', left='off',  labelleft='on', labelbottom='on', pad=-.6,)\n",
    "\n",
    "ax1.set_ylim(0.4, 1.0)\n",
    "\n",
    "ax1.set_ylabel('Validation RMSE')\n",
    "ax1.set_xlabel('Epochs')\n",
    "\n",
    "ax2.set_ylabel('Number of Valid Triplets')\n",
    "ax2.set_xlabel('Epochs')\n",
    "\n",
    "ax1.set_title('RMSE performance of validation set')\n",
    "ax2.set_title('Valid triplets of validation set')\n",
    "\n",
    "sns.despine(top=True, right=True, left=False, bottom=False)\n",
    "\n",
    "fig.tight_layout()\n",
    "plt.subplots_adjust(left=None, bottom=None, right=None, top=None, wspace=0.25)\n",
    "#plt.savefig(os.path.join(save_dir, 'genotype-phenotype-10FCV_10t_valid_auc.pdf'), bbox_inches='tight', dpi=400)"
   ]
  },
  {
   "cell_type": "code",
   "execution_count": null,
   "id": "1bee0fdf-a95c-4d88-a02b-509890f15ed8",
   "metadata": {},
   "outputs": [],
   "source": [
    "dfp1.min().plot()"
   ]
  },
  {
   "cell_type": "code",
   "execution_count": null,
   "id": "1c96826d-547b-442b-87fc-7fd9ffe7e663",
   "metadata": {},
   "outputs": [],
   "source": [
    "dfp2.max().plot()"
   ]
  },
  {
   "cell_type": "code",
   "execution_count": null,
   "id": "9cdb4f33-835e-4f6f-af18-44fdec641f3d",
   "metadata": {},
   "outputs": [],
   "source": []
  },
  {
   "cell_type": "code",
   "execution_count": null,
   "id": "1247881f-20ee-44aa-ae2e-9a0874242274",
   "metadata": {},
   "outputs": [],
   "source": []
  },
  {
   "cell_type": "code",
   "execution_count": null,
   "id": "9de75bf1-c234-4453-aab2-b157e087753e",
   "metadata": {},
   "outputs": [],
   "source": [
    "dfp2.max().plot()"
   ]
  },
  {
   "cell_type": "code",
   "execution_count": null,
   "id": "7fd3685b-d0cb-4a6c-bba3-bd38063a46e5",
   "metadata": {},
   "outputs": [],
   "source": [
    "dfp1.min().plot()"
   ]
  },
  {
   "cell_type": "code",
   "execution_count": null,
   "id": "401f0729-8848-4862-b087-d386bcb848cb",
   "metadata": {},
   "outputs": [],
   "source": []
  },
  {
   "cell_type": "code",
   "execution_count": null,
   "id": "6440b45b-6a39-4673-9a0e-6c45b0597694",
   "metadata": {},
   "outputs": [],
   "source": []
  },
  {
   "cell_type": "code",
   "execution_count": null,
   "id": "f0ab56cc-ce2c-4418-a395-54b41f8f58a0",
   "metadata": {},
   "outputs": [],
   "source": []
  },
  {
   "cell_type": "code",
   "execution_count": null,
   "id": "2f4bf764-3de6-4d7f-b790-96abeba9513b",
   "metadata": {},
   "outputs": [],
   "source": [
    "for data in train_loader:\n",
    "    data = data.to(device)"
   ]
  },
  {
   "cell_type": "code",
   "execution_count": null,
   "id": "c3607802-aed0-4d05-9781-4e970341b5fb",
   "metadata": {},
   "outputs": [],
   "source": [
    "predictions, embeddings = model(data.x.float(), data.edge_index, data.edge_attr, data.batch)"
   ]
  },
  {
   "cell_type": "code",
   "execution_count": null,
   "id": "59e51ce9-3502-4fb2-b6e6-02aad9c270af",
   "metadata": {},
   "outputs": [],
   "source": [
    "target_l1_dist = torch.cdist(data.y,data.y,p=1) "
   ]
  },
  {
   "cell_type": "code",
   "execution_count": null,
   "id": "15c1e840-e96d-4c18-a3bd-ea2323e01b09",
   "metadata": {},
   "outputs": [],
   "source": [
    "    target_l1_dist = torch.cdist(labels,labels,p=1) \n",
    "    label_equal = target_l1_dist < cliff"
   ]
  },
  {
   "cell_type": "code",
   "execution_count": null,
   "id": "ac3a0a20-ceb7-48f7-b041-e0d3b9351434",
   "metadata": {},
   "outputs": [],
   "source": [
    "x2 = target_l1_dist > 0.2\n",
    "x3 = target_l1_dist > 1\n"
   ]
  },
  {
   "cell_type": "code",
   "execution_count": null,
   "id": "ed7f1cce-1bd8-4d7a-8865-faedbba8a041",
   "metadata": {},
   "outputs": [],
   "source": [
    "x2.sum()"
   ]
  },
  {
   "cell_type": "code",
   "execution_count": null,
   "id": "9756c00c-abf7-49e9-ab8c-701a1ed344d8",
   "metadata": {},
   "outputs": [],
   "source": [
    "x3.sum()"
   ]
  },
  {
   "cell_type": "code",
   "execution_count": null,
   "id": "3c5c4d42-1b7a-4bf6-9dcd-3d635ffc6349",
   "metadata": {},
   "outputs": [],
   "source": []
  },
  {
   "cell_type": "code",
   "execution_count": null,
   "id": "fa5062d3-2dc2-404e-bb95-714f8323ec2f",
   "metadata": {},
   "outputs": [],
   "source": [
    "    \n",
    "    \n",
    "def get_triplet_mask(labels, cliff, device):\n",
    "\n",
    "    indices_equal = torch.eye(labels.shape[0]).bool()\n",
    "    indices_not_equal = torch.logical_not(indices_equal)\n",
    "    i_not_equal_j = torch.unsqueeze(indices_not_equal, 2)\n",
    "    i_not_equal_k = torch.unsqueeze(indices_not_equal, 1)\n",
    "    j_not_equal_k = torch.unsqueeze(indices_not_equal, 0)\n",
    "\n",
    "    distinct_indices = torch.logical_and(torch.logical_and(i_not_equal_j, i_not_equal_k), j_not_equal_k).to(device)\n",
    "\n",
    "    #labels = torch.unsqueeze(labels, -1)\n",
    "    #print('labels:',labels)\n",
    "    target_l1_dist = torch.cdist(labels,labels,p=1) \n",
    "    label_equal = target_l1_dist < cliff\n",
    "    #print('label_equal:',label_equal)\n",
    "    i_equal_j = torch.unsqueeze(label_equal, 2)\n",
    "    i_equal_k = torch.unsqueeze(label_equal, 1)\n",
    "    valid_labels = torch.logical_and(i_equal_j, torch.logical_not(i_equal_k)).to(device)\n",
    "    #print('val_indice',valid_labels[0])\n",
    "\n",
    "    mask = torch.logical_and(distinct_indices, valid_labels)\n",
    "    return mask   "
   ]
  },
  {
   "cell_type": "code",
   "execution_count": null,
   "id": "f926f8aa-380b-47db-9a5a-13091445d0b2",
   "metadata": {},
   "outputs": [],
   "source": [
    "get_triplet_mask(data.y, cliff = 0.5, device = device).sum() "
   ]
  },
  {
   "cell_type": "code",
   "execution_count": null,
   "id": "91f45e00-95e0-408f-a384-3758a4ee3df1",
   "metadata": {},
   "outputs": [],
   "source": [
    "mask = get_triplet_mask(data.y, cliff = 0.1, device = device)"
   ]
  },
  {
   "cell_type": "code",
   "execution_count": null,
   "id": "c359b163-9776-484f-84aa-81b37b2b1a77",
   "metadata": {},
   "outputs": [],
   "source": [
    "torch.sum(mask)"
   ]
  },
  {
   "cell_type": "code",
   "execution_count": null,
   "id": "02f22116-bb39-40a0-9d4f-4ecc3b6e992c",
   "metadata": {},
   "outputs": [],
   "source": [
    "labels = data.y\n",
    "indices_equal = torch.eye(labels.shape[0]).bool()\n",
    "indices_not_equal = torch.logical_not(indices_equal)\n",
    "i_not_equal_j = torch.unsqueeze(indices_not_equal, 2)\n",
    "i_not_equal_k = torch.unsqueeze(indices_not_equal, 1)\n",
    "j_not_equal_k = torch.unsqueeze(indices_not_equal, 0)\n",
    "\n",
    "distinct_indices = torch.logical_and(torch.logical_and(i_not_equal_j, i_not_equal_k), j_not_equal_k).to(device)"
   ]
  },
  {
   "cell_type": "code",
   "execution_count": null,
   "id": "0e2922a3-6356-415f-b8cc-54b343f28753",
   "metadata": {},
   "outputs": [],
   "source": [
    "distinct_indices.sum()"
   ]
  },
  {
   "cell_type": "code",
   "execution_count": null,
   "id": "42329de3-d46d-450e-9fef-dcd4f897264d",
   "metadata": {},
   "outputs": [],
   "source": [
    "cliff = 1\n",
    "target_l1_dist = torch.cdist(labels,labels,p=1) \n",
    "label_equal = target_l1_dist < cliff\n",
    "#print('label_equal:',label_equal)\n",
    "i_equal_j = torch.unsqueeze(label_equal, 2)\n",
    "i_equal_k = torch.unsqueeze(label_equal, 1)\n",
    "valid_labels = torch.logical_and(i_equal_j, torch.logical_not(i_equal_k)).to(device)\n",
    "valid_labels.sum()"
   ]
  },
  {
   "cell_type": "code",
   "execution_count": null,
   "id": "cd72de70-785d-4551-9a22-ee808f312c62",
   "metadata": {},
   "outputs": [],
   "source": [
    "label_equal.sum()"
   ]
  },
  {
   "cell_type": "code",
   "execution_count": null,
   "id": "8443bf95-f8f3-421a-a3ee-3eed2e7a9c13",
   "metadata": {},
   "outputs": [],
   "source": [
    "mask = torch.logical_and(distinct_indices, valid_labels)"
   ]
  },
  {
   "cell_type": "code",
   "execution_count": null,
   "id": "fdeacb15-9241-4dbc-b327-6e697cb19efc",
   "metadata": {},
   "outputs": [],
   "source": [
    "mask[0, 0, 0]"
   ]
  },
  {
   "cell_type": "code",
   "execution_count": null,
   "id": "5b3de789-5aba-4db4-a80a-d8b0e95d481d",
   "metadata": {},
   "outputs": [],
   "source": [
    "#torch.where(True)"
   ]
  },
  {
   "cell_type": "code",
   "execution_count": null,
   "id": "27792020-c9b6-49bc-aa0c-a0069cefd597",
   "metadata": {},
   "outputs": [],
   "source": [
    "from scipy.spatial.distance import squareform"
   ]
  },
  {
   "cell_type": "code",
   "execution_count": null,
   "id": "fb8e141c-319d-495f-9d12-c9e847d35679",
   "metadata": {},
   "outputs": [],
   "source": [
    "pd.Series(squareform(target_l1_dist.cpu().numpy())).hist(bins=100)"
   ]
  },
  {
   "cell_type": "code",
   "execution_count": null,
   "id": "4e553f46-5ef4-4925-9fcc-4cf25f4db735",
   "metadata": {},
   "outputs": [],
   "source": [
    "torch.where(mask)[0]"
   ]
  },
  {
   "cell_type": "code",
   "execution_count": null,
   "id": "fdd88517-c8c6-4407-9eb8-b45007bdbce2",
   "metadata": {},
   "outputs": [],
   "source": [
    "mask[0,3,1]"
   ]
  },
  {
   "cell_type": "code",
   "execution_count": null,
   "id": "44c0f799-4c2c-416e-963c-b0b7d1b96744",
   "metadata": {},
   "outputs": [],
   "source": []
  },
  {
   "cell_type": "code",
   "execution_count": null,
   "id": "01389221-cdf8-4dbb-94d7-e98083432031",
   "metadata": {},
   "outputs": [],
   "source": [
    "predictions, embeddings = model(data.x.float(), data.edge_index, data.edge_attr, data.batch)\n",
    "\n",
    "labels =   data.y\n",
    "\n",
    "cliff=0.5 \n",
    "alpha=0.1 \n",
    "squared=False\n",
    "\n",
    "\n",
    "# 得到每两两embeddings的距离，然后增加一个维度，一维需要得到（batch_size, batch_size, batch_size）大小的3D矩阵\n",
    "# 然后再点乘上valid 的 mask即可\n",
    "\n",
    "labels_dist = (labels - labels.T).abs()  \n",
    "\n",
    "margin_pos =  labels_dist.unsqueeze(2)\n",
    "margin_neg =  labels_dist.unsqueeze(1)\n",
    "margin = margin_neg - margin_pos\n",
    "\n",
    "pairwise_dis = pairwise_distance(embeddings=embeddings, squared=squared)\n",
    "anchor_positive_dist = pairwise_dis.unsqueeze(2)\n",
    "assert anchor_positive_dist.shape[2] == 1, \"{}\".format(anchor_positive_dist.shape)\n",
    "anchor_negative_dist = pairwise_dis.unsqueeze(1)\n",
    "assert anchor_negative_dist.shape[1] == 1, \"{}\".format(anchor_negative_dist.shape)\n",
    "#triplet_loss = anchor_positive_dist - anchor_negative_dist + margin\n",
    "triplet_loss = anchor_positive_dist - anchor_negative_dist + margin\n",
    "\n",
    "mask = get_triplet_mask(labels=labels, cliff = cliff, device=device )\n",
    "mask = mask.float()\n",
    "\n",
    "triplet_loss = torch.mul(mask, triplet_loss)\n",
    "triplet_loss = torch.maximum(triplet_loss, torch.tensor([0.0]).to(device))\n",
    "# 计算valid的triplet的个数，然后对所有的triplet loss求平均\n",
    "valid_triplets = (triplet_loss> 1e-16).float()\n",
    "num_positive_triplets = torch.sum(valid_triplets)\n",
    "num_valid_triplets = torch.sum(mask) #100, (a, p, n) #\n",
    "\n",
    "# #print(num_valid_triplets, mask.shape)\n",
    "\n",
    "# triplet_loss = torch.sum(triplet_loss) / (num_valid_triplets + 1e-16)\n",
    "# mae_loss = torch.mean((labels-predictions).abs())\n",
    "# union_loss = mae_loss + alpha*triplet_loss\n"
   ]
  },
  {
   "cell_type": "code",
   "execution_count": null,
   "id": "adb5813d-5d64-41fa-9294-021444a9a623",
   "metadata": {},
   "outputs": [],
   "source": [
    "torch.sum(mask)"
   ]
  },
  {
   "cell_type": "code",
   "execution_count": null,
   "id": "a45ab754-66e1-4dd6-91d7-7c4fd00fa866",
   "metadata": {},
   "outputs": [],
   "source": [
    "torch.where(valid_triplets)"
   ]
  },
  {
   "cell_type": "code",
   "execution_count": null,
   "id": "838ad0aa-8d8e-43b4-94f1-d15b5ac7db55",
   "metadata": {},
   "outputs": [],
   "source": [
    "num_positive_triplets"
   ]
  },
  {
   "cell_type": "code",
   "execution_count": null,
   "id": "8f48dab5-9889-4714-9256-451a90c0447e",
   "metadata": {},
   "outputs": [],
   "source": [
    "def get_triplet_mask2(labels, device, cliff_lower = 0.2, cliff_upper=1.0):\n",
    "\n",
    "    indices_equal = torch.eye(labels.shape[0]).bool()\n",
    "    indices_not_equal = torch.logical_not(indices_equal)\n",
    "    i_not_equal_j = torch.unsqueeze(indices_not_equal, 2)\n",
    "    i_not_equal_k = torch.unsqueeze(indices_not_equal, 1)\n",
    "    j_not_equal_k = torch.unsqueeze(indices_not_equal, 0)\n",
    "\n",
    "    distinct_indices = torch.logical_and(torch.logical_and(i_not_equal_j, i_not_equal_k), j_not_equal_k).to(device)\n",
    "\n",
    "    #labels = torch.unsqueeze(labels, -1)\n",
    "    #print('labels:',labels)\n",
    "    target_l1_dist = torch.cdist(labels,labels,p=1) \n",
    "    label_equal = target_l1_dist < cliff_lower #0.5\n",
    "    label_unequal  = target_l1_dist > cliff_upper #1.5\n",
    "    \n",
    "    #print('label_equal:',label_equal)\n",
    "    i_equal_j = torch.unsqueeze(label_equal, 2)\n",
    "    #i_equal_k = torch.unsqueeze(label_equal, 1)\n",
    "    i_unequal_k = torch.unsqueeze(label_unequal, 1)\n",
    "    \n",
    "    valid_labels = torch.logical_and(i_equal_j, i_unequal_k).to(device)\n",
    "    #print('val_indice',valid_labels[0])\n",
    "\n",
    "    mask = torch.logical_and(distinct_indices, valid_labels)\n",
    "    return mask  "
   ]
  },
  {
   "cell_type": "code",
   "execution_count": null,
   "id": "0caba98f-448f-4b36-b438-ece1e3d908cb",
   "metadata": {},
   "outputs": [],
   "source": [
    "mask2 = get_triplet_mask2(labels, device, cliff_lower = 0.3, cliff_upper=1.0)\n",
    "mask = get_triplet_mask(labels, cliff = 1., device = device)"
   ]
  },
  {
   "cell_type": "code",
   "execution_count": null,
   "id": "c85265ab-9c5f-4f4b-8719-1b62c56d9818",
   "metadata": {},
   "outputs": [],
   "source": [
    "torch.where(mask2)"
   ]
  },
  {
   "cell_type": "code",
   "execution_count": null,
   "id": "10065bfa-42b3-4890-af11-805eac7a844e",
   "metadata": {},
   "outputs": [],
   "source": [
    "torch.where(mask)"
   ]
  },
  {
   "cell_type": "code",
   "execution_count": null,
   "id": "56159d7b-5066-488f-b3d1-48511e215146",
   "metadata": {},
   "outputs": [],
   "source": [
    "torch.where(mask2)[0].shape"
   ]
  },
  {
   "cell_type": "code",
   "execution_count": null,
   "id": "a6ae1933-e4ca-42b8-8ebb-d6f06941deba",
   "metadata": {},
   "outputs": [],
   "source": [
    "torch.where(mask)[0].shape"
   ]
  },
  {
   "cell_type": "code",
   "execution_count": null,
   "id": "310dec4b-8808-4b1a-8e6c-8485f8f8a660",
   "metadata": {},
   "outputs": [],
   "source": [
    "10**0.3"
   ]
  },
  {
   "cell_type": "code",
   "execution_count": null,
   "id": "fc4daa43-c7e7-417a-ae84-3643c6b891b1",
   "metadata": {},
   "outputs": [],
   "source": []
  },
  {
   "cell_type": "code",
   "execution_count": null,
   "id": "60694dd7-f007-474d-a666-d07527c83f21",
   "metadata": {},
   "outputs": [],
   "source": []
  }
 ],
 "metadata": {
  "kernelspec": {
   "display_name": "Python 3 (ipykernel)",
   "language": "python",
   "name": "python3"
  },
  "language_info": {
   "codemirror_mode": {
    "name": "ipython",
    "version": 3
   },
   "file_extension": ".py",
   "mimetype": "text/x-python",
   "name": "python",
   "nbconvert_exporter": "python",
   "pygments_lexer": "ipython3",
   "version": "3.9.7"
  }
 },
 "nbformat": 4,
 "nbformat_minor": 5
}
